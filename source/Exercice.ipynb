{
 "cells": [
  {
   "cell_type": "markdown",
   "id": "f18c4520",
   "metadata": {},
   "source": [
    "### Problème"
   ]
  },
  {
   "cell_type": "markdown",
   "id": "a911f63f",
   "metadata": {},
   "source": [
    "Nous allons anayser les données de l'expérience de la figure"
   ]
  },
  {
   "cell_type": "code",
   "execution_count": 1,
   "id": "bf4e3b36",
   "metadata": {},
   "outputs": [
    {
     "data": {
      "text/html": [
       "<img src=\"experience.png\" width=\"500\" height=\"500\"/>"
      ],
      "text/plain": [
       "<IPython.core.display.Image object>"
      ]
     },
     "execution_count": 1,
     "metadata": {},
     "output_type": "execute_result"
    }
   ],
   "source": [
    "# import image module\n",
    "from IPython.display import Image\n",
    "  \n",
    "# get the image\n",
    "Image(url=\"experience.png\", width=500, height=500)\n"
   ]
  },
  {
   "cell_type": "markdown",
   "id": "ecffdbd7",
   "metadata": {},
   "source": [
    " Une bille supposée ponctuelle avec une vitesse horizontale $V_0$ tombe d'une table de hauteur $H$ et rencontre le sol à une longueur $L$.\n",
    "\n",
    "Nous disposons de deux fichiers de mesures expérimentales (fichiers formatés csv séparés par des \";\")\n",
    "- \"V1msHvariable.csv\" expérience de mesure de la longueur $L$ à vitesse $V_0=1 \\ m/s$ constante pour des différentes hauteurs $H$ avec l'erreur correspondante\n",
    "- \"H1mVvariable.csv\" expérience de mesure de la longueur $L$ à hauteur $H= 1 \\ m$ constante pour des différentes vitesses $V_0$ avec l'erreur correspondante\n",
    "\n",
    "On propose un modèle pour la longueur $L$\n",
    "\n",
    "$$ L = C V_0^\\alpha H^\\beta $$\n",
    "\n",
    "nous allons évaluer les coefficients $\\alpha$ et $\\beta$, ainsi que la constante $C$."
   ]
  },
  {
   "cell_type": "markdown",
   "id": "def2a595",
   "metadata": {},
   "source": [
    "### Bibliothèques nécessaires"
   ]
  },
  {
   "cell_type": "code",
   "execution_count": 2,
   "id": "6eb47ffa",
   "metadata": {},
   "outputs": [],
   "source": [
    "import pandas as pd\n",
    "import numpy as np\n",
    "from scipy.optimize import curve_fit"
   ]
  },
  {
   "cell_type": "markdown",
   "id": "f60f3bdf",
   "metadata": {},
   "source": [
    "## Partie 1\n",
    "Etude de la longueur 𝐿 à vitesse $𝑉_0=1 \\ 𝑚/𝑠$ constante pour des différentes hauteurs 𝐻"
   ]
  },
  {
   "cell_type": "markdown",
   "id": "d135c405",
   "metadata": {},
   "source": [
    "### Point 1.1\n",
    "En utilisant la bibliothèque Pandas, lisez le fichier \"V1msHvariable.csv\" et définisez les variables $L$, $H$, \n",
    "et  $erreur$ (de la mesure de hauteur)"
   ]
  },
  {
   "cell_type": "code",
   "execution_count": null,
   "id": "96e320c8",
   "metadata": {},
   "outputs": [],
   "source": []
  },
  {
   "cell_type": "markdown",
   "id": "d7a43f3e",
   "metadata": {},
   "source": [
    "### Point 1.2\n",
    "Faites une figure de $L$ vs $H$ avec barres d'erreur"
   ]
  },
  {
   "cell_type": "code",
   "execution_count": null,
   "id": "358a3d61",
   "metadata": {},
   "outputs": [],
   "source": []
  },
  {
   "cell_type": "markdown",
   "id": "c7139233",
   "metadata": {},
   "source": [
    "### Point 1.3\n",
    "Utilisez la fonction \"curve_fit\" pour faire une regression linéaire des données exprimées en une échelle log-log\n",
    "et trouve la valeur de $\\alpha$"
   ]
  },
  {
   "cell_type": "code",
   "execution_count": null,
   "id": "2dbb6367",
   "metadata": {},
   "outputs": [],
   "source": []
  },
  {
   "cell_type": "markdown",
   "id": "70ed4d67",
   "metadata": {},
   "source": [
    "### Point 1.4\n",
    "Faites un figure log-log de $L$ vs $H$ en ajoutant la regression linéaire trouvée dans le point précédent"
   ]
  },
  {
   "cell_type": "code",
   "execution_count": null,
   "id": "83e8da5f",
   "metadata": {},
   "outputs": [],
   "source": []
  },
  {
   "cell_type": "markdown",
   "id": "8691357e",
   "metadata": {},
   "source": [
    "## Partie 2\n",
    "Etude de la longueur $L$ à hauteur $H= 1 \\ m$ constante pour des différentes vitesses $V_0$ "
   ]
  },
  {
   "cell_type": "markdown",
   "id": "8dde6329",
   "metadata": {},
   "source": [
    "### Point 2.1\n",
    "En utilisant la bibliothèque Pandas, lisez le fichier \"H1mVvariable.csv\" et définisez les variables $L$, $V_0$, \n",
    "et $erreur$ (de la mesure de vitesse)"
   ]
  },
  {
   "cell_type": "code",
   "execution_count": null,
   "id": "ec90d54e",
   "metadata": {},
   "outputs": [],
   "source": []
  },
  {
   "cell_type": "markdown",
   "id": "b5f8fbca",
   "metadata": {},
   "source": [
    "### Point 2.2\n",
    "Faites une figure de $L$ vs $V_0$ avec barres d'erreur"
   ]
  },
  {
   "cell_type": "code",
   "execution_count": null,
   "id": "a37afbd6",
   "metadata": {},
   "outputs": [],
   "source": []
  },
  {
   "cell_type": "markdown",
   "id": "94d89467",
   "metadata": {},
   "source": [
    "### Point 2.3\n",
    "Utilisez la fonction \"curve_fit\" pour faire une regression linéaire des données exprimées en une échelle log-log\n",
    "et trouve la valeur de $\\beta$"
   ]
  },
  {
   "cell_type": "code",
   "execution_count": null,
   "id": "53017788",
   "metadata": {},
   "outputs": [],
   "source": []
  },
  {
   "cell_type": "markdown",
   "id": "a61554ae",
   "metadata": {},
   "source": [
    "### Point 2.4\n",
    "Faites un figure log-log de $L$ vs $V_0$ en ajoutant la regression linéaire trouvée dans le point précédent"
   ]
  },
  {
   "cell_type": "code",
   "execution_count": null,
   "id": "e62b8263",
   "metadata": {},
   "outputs": [],
   "source": []
  },
  {
   "cell_type": "markdown",
   "id": "7f2178cf",
   "metadata": {},
   "source": [
    "## Partie 3 (optative)\n",
    "Donnez une estimation de la constante $C$"
   ]
  },
  {
   "cell_type": "code",
   "execution_count": null,
   "id": "2cff8e1c",
   "metadata": {},
   "outputs": [],
   "source": []
  }
 ],
 "metadata": {
  "kernelspec": {
   "display_name": "Python 3 (ipykernel)",
   "language": "python",
   "name": "python3"
  },
  "language_info": {
   "codemirror_mode": {
    "name": "ipython",
    "version": 3
   },
   "file_extension": ".py",
   "mimetype": "text/x-python",
   "name": "python",
   "nbconvert_exporter": "python",
   "pygments_lexer": "ipython3",
   "version": "3.9.7"
  }
 },
 "nbformat": 4,
 "nbformat_minor": 5
}
