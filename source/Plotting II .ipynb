{
 "cells": [
  {
   "cell_type": "markdown",
   "metadata": {},
   "source": [
    "# Reading files"
   ]
  },
  {
   "cell_type": "code",
   "execution_count": 1,
   "metadata": {},
   "outputs": [],
   "source": [
    "import pandas as pd\n",
    "# pandas is a Python package providing fast, flexible, and expressive data \n",
    "# structures designed to make working with “relational” or “labeled” data \n",
    "# both easy and intuitive. "
   ]
  },
  {
   "cell_type": "markdown",
   "metadata": {},
   "source": [
    "### CSV files"
   ]
  },
  {
   "cell_type": "code",
   "execution_count": 2,
   "metadata": {},
   "outputs": [
    {
     "name": "stdout",
     "output_type": "stream",
     "text": [
      "x;y;er\r",
      "\r\n",
      "1;1;0.2\r",
      "\r\n",
      "2;4;0.2\r",
      "\r\n",
      "3;8;0.3\r",
      "\r\n",
      "4;17;0.4\r",
      "\r\n",
      "5;24;0.2"
     ]
    }
   ],
   "source": [
    "!cat data.csv"
   ]
  },
  {
   "cell_type": "code",
   "execution_count": 3,
   "metadata": {},
   "outputs": [
    {
     "name": "stdout",
     "output_type": "stream",
     "text": [
      "   x   y   er\n",
      "0  1   1  0.2\n",
      "1  2   4  0.2\n",
      "2  3   8  0.3\n",
      "3  4  17  0.4\n",
      "4  5  24  0.2\n"
     ]
    }
   ],
   "source": [
    "# read file\n",
    "d = pd.read_csv(\"data.csv\",delimiter=\";\")\n",
    "print(d)"
   ]
  },
  {
   "cell_type": "code",
   "execution_count": 4,
   "metadata": {},
   "outputs": [
    {
     "name": "stdout",
     "output_type": "stream",
     "text": [
      "0    1\n",
      "1    2\n",
      "2    3\n",
      "3    4\n",
      "4    5\n",
      "Name: x, dtype: int64 0     1\n",
      "1     4\n",
      "2     8\n",
      "3    17\n",
      "4    24\n",
      "Name: y, dtype: int64\n"
     ]
    }
   ],
   "source": [
    "# taking values from headers\n",
    "x=d[\"x\"]\n",
    "y=d[\"y\"]\n",
    "e=d[\"er\"]\n",
    "print(x,y)"
   ]
  },
  {
   "cell_type": "code",
   "execution_count": 5,
   "metadata": {},
   "outputs": [
    {
     "name": "stdout",
     "output_type": "stream",
     "text": [
      "0    1\n",
      "1    2\n",
      "2    3\n",
      "3    4\n",
      "4    5\n",
      "Name: x, dtype: int64 0     1\n",
      "1     4\n",
      "2     8\n",
      "3    17\n",
      "4    24\n",
      "Name: y, dtype: int64\n"
     ]
    }
   ],
   "source": [
    "# taking values from colon  .iloc[row,col] or .loc[row,col]\n",
    "x=d.iloc[:,0]\n",
    "y=d.iloc[:,1]\n",
    "e=d.iloc[:,2]\n",
    "print(x,y)"
   ]
  },
  {
   "cell_type": "markdown",
   "metadata": {},
   "source": [
    "### Raw files with headers"
   ]
  },
  {
   "cell_type": "code",
   "execution_count": 6,
   "metadata": {},
   "outputs": [
    {
     "name": "stdout",
     "output_type": "stream",
     "text": [
      "x y er\r",
      "\r\n",
      "1 1 0.2\r",
      "\r\n",
      "2 4 0.2\r",
      "\r\n",
      "3 8 0.3\r",
      "\r\n"
     ]
    }
   ],
   "source": [
    "# text files\n",
    "!cat data.txt"
   ]
  },
  {
   "cell_type": "code",
   "execution_count": 7,
   "metadata": {},
   "outputs": [
    {
     "name": "stdout",
     "output_type": "stream",
     "text": [
      "    x y er\n",
      "0  1 1 0.2\n",
      "1  2 4 0.2\n",
      "2  3 8 0.3\n"
     ]
    }
   ],
   "source": [
    "# read file\n",
    "dtext = pd.read_csv(\"data.txt\")\n",
    "print(dtext)"
   ]
  },
  {
   "cell_type": "markdown",
   "metadata": {},
   "source": [
    "### Raw files without headers"
   ]
  },
  {
   "cell_type": "code",
   "execution_count": 8,
   "metadata": {},
   "outputs": [
    {
     "name": "stdout",
     "output_type": "stream",
     "text": [
      "1 1 0.2\r",
      "\r\n",
      "2 4 0.2\r",
      "\r\n",
      "3 8 0.3\r",
      "\r\n"
     ]
    }
   ],
   "source": [
    "# raw values\n",
    "!cat data.raw"
   ]
  },
  {
   "cell_type": "code",
   "execution_count": 9,
   "metadata": {},
   "outputs": [
    {
     "name": "stdout",
     "output_type": "stream",
     "text": [
      "   0  1    2\n",
      "0  1  1  0.2\n",
      "1  2  4  0.2\n",
      "2  3  8  0.3\n"
     ]
    }
   ],
   "source": [
    "# read raw file\n",
    "draw = pd.read_csv(\"data.raw\",delimiter=\" \", header = None)\n",
    "print(draw)"
   ]
  },
  {
   "cell_type": "code",
   "execution_count": 10,
   "metadata": {},
   "outputs": [
    {
     "data": {
      "text/plain": [
       "0    0.2\n",
       "1    0.2\n",
       "2    0.3\n",
       "Name: 2, dtype: float64"
      ]
     },
     "execution_count": 10,
     "metadata": {},
     "output_type": "execute_result"
    }
   ],
   "source": [
    "draw.iloc[:,2]"
   ]
  },
  {
   "cell_type": "markdown",
   "metadata": {},
   "source": [
    "### Formatted file"
   ]
  },
  {
   "cell_type": "code",
   "execution_count": 11,
   "metadata": {},
   "outputs": [
    {
     "name": "stdout",
     "output_type": "stream",
     "text": [
      "         0         1\n",
      "0      0.0  0.894520\n",
      "1    100.0  0.849616\n",
      "2    200.0  0.806313\n",
      "3    300.0  0.763861\n",
      "4    400.0  0.722299\n",
      "5    500.0  0.681680\n",
      "6    600.0  0.642211\n",
      "7    700.0  0.603411\n",
      "8    800.0  0.565199\n",
      "9    900.0  0.528873\n",
      "10  1000.0  0.492817\n"
     ]
    }
   ],
   "source": [
    "# read raw file\n",
    "fwidths = [11,10]\n",
    "dexpe = pd.read_fwf(\"expe.dat\",delimiter=\" \",header = None, widths = fwidths)\n",
    "print(dexpe)"
   ]
  },
  {
   "cell_type": "markdown",
   "metadata": {},
   "source": [
    "### More formats\n",
    "see references "
   ]
  },
  {
   "cell_type": "code",
   "execution_count": 12,
   "metadata": {},
   "outputs": [
    {
     "data": {
      "text/html": [
       "<img src=\"02_io_readwrite.svg\" width=\"500\" height=\"500\"/>"
      ],
      "text/plain": [
       "<IPython.core.display.Image object>"
      ]
     },
     "execution_count": 12,
     "metadata": {},
     "output_type": "execute_result"
    }
   ],
   "source": [
    "# import image module\n",
    "from IPython.display import Image\n",
    "  \n",
    "# get the image\n",
    "Image(url=\"02_io_readwrite.svg\", width=500, height=500)"
   ]
  },
  {
   "cell_type": "markdown",
   "metadata": {},
   "source": [
    "## Plotting data"
   ]
  },
  {
   "cell_type": "code",
   "execution_count": 13,
   "metadata": {},
   "outputs": [],
   "source": [
    "import matplotlib.pyplot as plt"
   ]
  },
  {
   "cell_type": "code",
   "execution_count": 14,
   "metadata": {},
   "outputs": [
    {
     "name": "stdout",
     "output_type": "stream",
     "text": [
      "         0         1\n",
      "0      0.0  0.894520\n",
      "1    100.0  0.849616\n",
      "2    200.0  0.806313\n",
      "3    300.0  0.763861\n",
      "4    400.0  0.722299\n",
      "5    500.0  0.681680\n",
      "6    600.0  0.642211\n",
      "7    700.0  0.603411\n",
      "8    800.0  0.565199\n",
      "9    900.0  0.528873\n",
      "10  1000.0  0.492817\n"
     ]
    }
   ],
   "source": [
    "# read raw file\n",
    "fwidths = [11,10]\n",
    "dexpe = pd.read_fwf(\"expe.dat\",delimiter=\" \",header = None, widths = fwidths)\n",
    "print(dexpe)"
   ]
  },
  {
   "cell_type": "code",
   "execution_count": 15,
   "metadata": {},
   "outputs": [],
   "source": [
    "# get x and y\n",
    "x=dexpe.iloc[:,0]\n",
    "y=dexpe.iloc[:,1]"
   ]
  },
  {
   "cell_type": "code",
   "execution_count": 16,
   "metadata": {},
   "outputs": [
    {
     "data": {
      "text/plain": [
       "<matplotlib.legend.Legend at 0x7fbffabe9df0>"
      ]
     },
     "execution_count": 16,
     "metadata": {},
     "output_type": "execute_result"
    },
    {
     "data": {
      "image/png": "[encoded data removed]",
      "text/plain": [
       "<Figure size 432x432 with 1 Axes>"
      ]
     },
     "metadata": {
      "needs_background": "light"
     },
     "output_type": "display_data"
    }
   ],
   "source": [
    "# plot\n",
    "fig = plt.figure(figsize=(6,6)) # s\n",
    "ax = plt.subplot() \n",
    "ax.plot(x,y,\"o\",label=\"Experimental data\")\n",
    "ax.set_ylim([0,2])\n",
    "ax.set_xlabel(\"t[s]\")\n",
    "ax.set_ylabel(\"V[t]\")\n",
    "ax.set_title(\"Temporal Evolution of Volume\")\n",
    "ax.legend()"
   ]
  },
  {
   "cell_type": "markdown",
   "metadata": {},
   "source": [
    "## Fitting : linear"
   ]
  },
  {
   "cell_type": "code",
   "execution_count": 17,
   "metadata": {},
   "outputs": [],
   "source": [
    "from scipy.optimize import curve_fit\n",
    "import numpy as np"
   ]
  },
  {
   "cell_type": "code",
   "execution_count": 18,
   "metadata": {},
   "outputs": [],
   "source": [
    "def func(x, a, b):\n",
    "    return a * x + b"
   ]
  },
  {
   "cell_type": "code",
   "execution_count": 19,
   "metadata": {},
   "outputs": [
    {
     "name": "stdout",
     "output_type": "stream",
     "text": [
      "(array([-4.01437909e-04,  8.87155318e-01]), array([[ 1.96723961e-11, -9.83619802e-09],\n",
      "       [-9.83619802e-09,  6.88533863e-06]]))\n"
     ]
    }
   ],
   "source": [
    "popt= curve_fit(func, x, y)\n",
    "print(popt)"
   ]
  },
  {
   "cell_type": "code",
   "execution_count": 20,
   "metadata": {},
   "outputs": [],
   "source": [
    "[a,b]=popt[0]"
   ]
  },
  {
   "cell_type": "code",
   "execution_count": 21,
   "metadata": {},
   "outputs": [
    {
     "data": {
      "text/plain": [
       "<matplotlib.legend.Legend at 0x7fbffb10bf40>"
      ]
     },
     "execution_count": 21,
     "metadata": {},
     "output_type": "execute_result"
    },
    {
     "data": {
      "image/png": "[encoded data removed]",
      "text/plain": [
       "<Figure size 432x432 with 1 Axes>"
      ]
     },
     "metadata": {
      "needs_background": "light"
     },
     "output_type": "display_data"
    }
   ],
   "source": [
    "fig = plt.figure(figsize=(6,6)) # \n",
    "ax = plt.subplot() \n",
    "ax.plot(x,y,\"o\",label=\"Experimental data\")\n",
    "ax.plot(x,func(x,*popt[0]),label=\"Linear model\")\n",
    "ax.set_ylim([0,2])\n",
    "ax.set_xlabel(\"t[s]\")\n",
    "ax.set_ylabel(\"V[t]\")\n",
    "ax.set_title(\"Temporal Evolution of Volume\")\n",
    "ax.legend()"
   ]
  },
  {
   "cell_type": "markdown",
   "metadata": {},
   "source": [
    "## Fitting : non linear"
   ]
  },
  {
   "cell_type": "code",
   "execution_count": 22,
   "metadata": {},
   "outputs": [
    {
     "name": "stdout",
     "output_type": "stream",
     "text": [
      "        0      1      2\n",
      "0   0.102  0.319  0.565\n",
      "1   0.204  0.452  0.672\n",
      "2   0.306  0.553  0.744\n",
      "3   0.408  0.639  0.799\n",
      "4   0.510  0.714  0.845\n",
      "5   0.612  0.782  0.885\n",
      "6   0.714  0.845  0.919\n",
      "7   0.816  0.904  0.951\n",
      "8   0.918  0.958  0.979\n",
      "9   1.020  1.010  1.005\n",
      "10  1.122  1.059  1.029\n",
      "11  1.224  1.107  1.052\n",
      "12  1.327  1.152  1.073\n",
      "13  1.429  1.195  1.093\n",
      "14  1.531  1.237  1.112\n",
      "15  1.633  1.278  1.130\n",
      "16  1.735  1.317  1.148\n",
      "17  1.837  1.355  1.164\n",
      "18  1.939  1.392  1.180\n",
      "19  2.041  1.429  1.195\n",
      "20  2.143  1.464  1.210\n",
      "21  2.245  1.498  1.224\n",
      "22  2.347  1.532  1.238\n",
      "23  2.449  1.565  1.251\n",
      "24  2.551  1.597  1.264\n",
      "25  2.653  1.629  1.276\n",
      "26  2.755  1.660  1.288\n",
      "27  2.857  1.690  1.300\n",
      "28  2.959  1.720  1.312\n",
      "29  3.061  1.750  1.323\n",
      "30  3.163  1.779  1.334\n",
      "31  3.265  1.807  1.344\n",
      "32  3.367  1.835  1.355\n",
      "33  3.469  1.863  1.365\n",
      "34  3.571  1.890  1.375\n",
      "35  3.673  1.917  1.384\n",
      "36  3.776  1.943  1.394\n",
      "37  3.878  1.969  1.403\n",
      "38  3.980  1.995  1.412\n",
      "39  4.082  2.020  1.421\n",
      "40  4.184  2.045  1.430\n",
      "41  4.286  2.070  1.439\n",
      "42  4.388  2.095  1.447\n",
      "43  4.490  2.119  1.456\n",
      "44  4.592  2.143  1.464\n",
      "45  4.694  2.167  1.472\n",
      "46  4.796  2.190  1.480\n",
      "47  4.898  2.213  1.488\n",
      "48  5.000  2.236  1.495\n"
     ]
    }
   ],
   "source": [
    "# read raw file\n",
    "fwidths = [6,6,6]\n",
    "dexpe = pd.read_fwf(\"power.dat\",delimiter=\" \",header = None, widths = fwidths)\n",
    "print(dexpe)"
   ]
  },
  {
   "cell_type": "code",
   "execution_count": 23,
   "metadata": {},
   "outputs": [],
   "source": [
    "# get x and y\n",
    "x =dexpe.iloc[:,0]\n",
    "y1=dexpe.iloc[:,1]\n",
    "y2=dexpe.iloc[:,2]"
   ]
  },
  {
   "cell_type": "code",
   "execution_count": 24,
   "metadata": {},
   "outputs": [
    {
     "data": {
      "text/plain": [
       "<matplotlib.legend.Legend at 0x7fbfe90ebfd0>"
      ]
     },
     "execution_count": 24,
     "metadata": {},
     "output_type": "execute_result"
    },
    {
     "data": {
      "image/png": "[encoded data removed]",
      "text/plain": [
       "<Figure size 432x432 with 1 Axes>"
      ]
     },
     "metadata": {
      "needs_background": "light"
     },
     "output_type": "display_data"
    }
   ],
   "source": [
    "# plot\n",
    "fig = plt.figure(figsize=(6,6)) # s\n",
    "ax = plt.subplot() \n",
    "ax.plot(x,y1,\"o\",label=\"Experimental data 1\")\n",
    "ax.plot(x,y2,\"o\",label=\"Experimental data 2\")\n",
    "ax.set_ylim([0,2])\n",
    "ax.set_xlabel(\"t[s]\")\n",
    "ax.set_ylabel(\"V[t]\")\n",
    "ax.set_title(\"Temporal Evolution of Volume\")\n",
    "ax.legend()"
   ]
  },
  {
   "cell_type": "markdown",
   "metadata": {},
   "source": [
    "### log-log"
   ]
  },
  {
   "cell_type": "code",
   "execution_count": 25,
   "metadata": {},
   "outputs": [
    {
     "data": {
      "text/plain": [
       "[]"
      ]
     },
     "execution_count": 25,
     "metadata": {},
     "output_type": "execute_result"
    },
    {
     "data": {
      "image/png": "[encoded data removed]",
      "text/plain": [
       "<Figure size 432x432 with 1 Axes>"
      ]
     },
     "metadata": {
      "needs_background": "light"
     },
     "output_type": "display_data"
    }
   ],
   "source": [
    "# plot\n",
    "fig = plt.figure(figsize=(6,6)) # s\n",
    "ax = plt.subplot() \n",
    "ax.plot(x,y1,\"o\",label=\"Experimental data 1\")\n",
    "ax.plot(x,y2,\"o\",label=\"Experimental data 2\")\n",
    "ax.set_xlabel(\"t[s]\")\n",
    "ax.set_ylabel(\"V[t]\")\n",
    "ax.set_title(\"Temporal Evolution of Volume\")\n",
    "ax.legend()\n",
    "ax.loglog()"
   ]
  },
  {
   "cell_type": "code",
   "execution_count": 26,
   "metadata": {},
   "outputs": [],
   "source": [
    "def func(x, a, b):\n",
    "    return a * x + b"
   ]
  },
  {
   "cell_type": "code",
   "execution_count": 27,
   "metadata": {},
   "outputs": [],
   "source": [
    "popt= curve_fit(func, np.log(x), np.log(y1))"
   ]
  },
  {
   "cell_type": "code",
   "execution_count": 28,
   "metadata": {},
   "outputs": [
    {
     "name": "stdout",
     "output_type": "stream",
     "text": [
      "0.500\n",
      "-0.000\n"
     ]
    }
   ],
   "source": [
    "popt[0]\n",
    "a=popt[0][0]\n",
    "b=popt[0][1]\n",
    "print(\"%.3f\" % a)\n",
    "print(\"%.3f\" % b)"
   ]
  },
  {
   "cell_type": "code",
   "execution_count": 29,
   "metadata": {},
   "outputs": [
    {
     "data": {
      "text/plain": [
       "[]"
      ]
     },
     "execution_count": 29,
     "metadata": {},
     "output_type": "execute_result"
    },
    {
     "data": {
      "image/png": "[encoded data removed]",
      "text/plain": [
       "<Figure size 432x432 with 1 Axes>"
      ]
     },
     "metadata": {
      "needs_background": "light"
     },
     "output_type": "display_data"
    }
   ],
   "source": [
    "# plot\n",
    "fig = plt.figure(figsize=(6,6)) # s\n",
    "ax = plt.subplot() \n",
    "ax.plot(x,y1,\"o\",label=\"Experimental data 1\")\n",
    "ax.plot(x,x**a+b,\"-\",label=\"Model 1\")\n",
    "ax.set_xlabel(\"t[s]\")\n",
    "ax.set_ylabel(\"V[t]\")\n",
    "ax.set_title(\"Temporal Evolution of Volume\")\n",
    "ax.legend()\n",
    "ax.loglog()"
   ]
  },
  {
   "cell_type": "markdown",
   "metadata": {},
   "source": [
    "### Errors bar"
   ]
  },
  {
   "cell_type": "code",
   "execution_count": 48,
   "metadata": {},
   "outputs": [
    {
     "name": "stdout",
     "output_type": "stream",
     "text": [
      "0    1\n",
      "1    2\n",
      "2    3\n",
      "3    4\n",
      "4    5\n",
      "Name: x, dtype: int64 0     1\n",
      "1     4\n",
      "2     8\n",
      "3    17\n",
      "4    24\n",
      "Name: y, dtype: int64 0    0.2\n",
      "1    0.2\n",
      "2    0.3\n",
      "3    0.4\n",
      "4    0.2\n",
      "Name: er, dtype: float64\n"
     ]
    }
   ],
   "source": [
    "# read file\n",
    "d = pd.read_csv(\"data.csv\",delimiter=\";\")\n",
    "# taking values from headers\n",
    "x=d[\"x\"]\n",
    "y=d[\"y\"]\n",
    "e=d[\"er\"]\n",
    "print(x,y,e)"
   ]
  },
  {
   "cell_type": "code",
   "execution_count": 31,
   "metadata": {},
   "outputs": [
    {
     "data": {
      "text/plain": [
       "<matplotlib.legend.Legend at 0x7fbfc8070bb0>"
      ]
     },
     "execution_count": 31,
     "metadata": {},
     "output_type": "execute_result"
    },
    {
     "data": {
      "image/png": "[encoded data removed]",
      "text/plain": [
       "<Figure size 432x432 with 1 Axes>"
      ]
     },
     "metadata": {
      "needs_background": "light"
     },
     "output_type": "display_data"
    }
   ],
   "source": [
    "fig = plt.figure(figsize=(6,6)) # s\n",
    "ax = plt.subplot() \n",
    "ax.errorbar(x,0.1*y,e*2, marker='.', linestyle=\"none\", label=\"data\")\n",
    "ax.legend()"
   ]
  },
  {
   "cell_type": "code",
   "execution_count": 97,
   "metadata": {},
   "outputs": [],
   "source": [
    "# data generation\n",
    "x=np.linspace(0,5)\n",
    "y1 = np.power(x,0.5)\n",
    "y2 = np.power(x,0.25)\n",
    "#print(np.size(x))\n",
    "#for i in range(50):\n",
    "#    print(\"%.3f\" % x[i],\"%.3f\" % np.power(x[i],0.5),\"%.3f\" % np.power(x[i],0.25))\n",
    "#print(x,np.power(x,1./2))"
   ]
  },
  {
   "cell_type": "code",
   "execution_count": 98,
   "metadata": {},
   "outputs": [],
   "source": [
    "sx = pd.Series(x)\n",
    "sy1 = pd.Series(y1)\n",
    "sy2 = pd.Series(y2)"
   ]
  },
  {
   "cell_type": "code",
   "execution_count": 99,
   "metadata": {},
   "outputs": [],
   "source": [
    "nd = pd.concat([sx,sy1,sy2],axis=1)"
   ]
  },
  {
   "cell_type": "code",
   "execution_count": 100,
   "metadata": {},
   "outputs": [],
   "source": [
    "nd.to_csv(\"test.csv\")"
   ]
  },
  {
   "cell_type": "code",
   "execution_count": 101,
   "metadata": {},
   "outputs": [],
   "source": [
    "d = pd.read_csv(\"test.csv\",delimiter=\",\")"
   ]
  },
  {
   "cell_type": "code",
   "execution_count": 102,
   "metadata": {},
   "outputs": [
    {
     "data": {
      "text/html": [
       "<div>\n",
       "<style scoped>\n",
       "    .dataframe tbody tr th:only-of-type {\n",
       "        vertical-align: middle;\n",
       "    }\n",
       "\n",
       "    .dataframe tbody tr th {\n",
       "        vertical-align: top;\n",
       "    }\n",
       "\n",
       "    .dataframe thead th {\n",
       "        text-align: right;\n",
       "    }\n",
       "</style>\n",
       "<table border=\"1\" class=\"dataframe\">\n",
       "  <thead>\n",
       "    <tr style=\"text-align: right;\">\n",
       "      <th></th>\n",
       "      <th>Unnamed: 0</th>\n",
       "      <th>0</th>\n",
       "      <th>1</th>\n",
       "      <th>2</th>\n",
       "    </tr>\n",
       "  </thead>\n",
       "  <tbody>\n",
       "    <tr>\n",
       "      <th>0</th>\n",
       "      <td>0</td>\n",
       "      <td>0.000000</td>\n",
       "      <td>0.000000</td>\n",
       "      <td>0.000000</td>\n",
       "    </tr>\n",
       "    <tr>\n",
       "      <th>1</th>\n",
       "      <td>1</td>\n",
       "      <td>0.102041</td>\n",
       "      <td>0.319438</td>\n",
       "      <td>0.565189</td>\n",
       "    </tr>\n",
       "    <tr>\n",
       "      <th>2</th>\n",
       "      <td>2</td>\n",
       "      <td>0.204082</td>\n",
       "      <td>0.451754</td>\n",
       "      <td>0.672126</td>\n",
       "    </tr>\n",
       "    <tr>\n",
       "      <th>3</th>\n",
       "      <td>3</td>\n",
       "      <td>0.306122</td>\n",
       "      <td>0.553283</td>\n",
       "      <td>0.743830</td>\n",
       "    </tr>\n",
       "    <tr>\n",
       "      <th>4</th>\n",
       "      <td>4</td>\n",
       "      <td>0.408163</td>\n",
       "      <td>0.638877</td>\n",
       "      <td>0.799298</td>\n",
       "    </tr>\n",
       "    <tr>\n",
       "      <th>5</th>\n",
       "      <td>5</td>\n",
       "      <td>0.510204</td>\n",
       "      <td>0.714286</td>\n",
       "      <td>0.845154</td>\n",
       "    </tr>\n",
       "    <tr>\n",
       "      <th>6</th>\n",
       "      <td>6</td>\n",
       "      <td>0.612245</td>\n",
       "      <td>0.782461</td>\n",
       "      <td>0.884568</td>\n",
       "    </tr>\n",
       "    <tr>\n",
       "      <th>7</th>\n",
       "      <td>7</td>\n",
       "      <td>0.714286</td>\n",
       "      <td>0.845154</td>\n",
       "      <td>0.919323</td>\n",
       "    </tr>\n",
       "    <tr>\n",
       "      <th>8</th>\n",
       "      <td>8</td>\n",
       "      <td>0.816327</td>\n",
       "      <td>0.903508</td>\n",
       "      <td>0.950530</td>\n",
       "    </tr>\n",
       "    <tr>\n",
       "      <th>9</th>\n",
       "      <td>9</td>\n",
       "      <td>0.918367</td>\n",
       "      <td>0.958315</td>\n",
       "      <td>0.978936</td>\n",
       "    </tr>\n",
       "    <tr>\n",
       "      <th>10</th>\n",
       "      <td>10</td>\n",
       "      <td>1.020408</td>\n",
       "      <td>1.010153</td>\n",
       "      <td>1.005063</td>\n",
       "    </tr>\n",
       "    <tr>\n",
       "      <th>11</th>\n",
       "      <td>11</td>\n",
       "      <td>1.122449</td>\n",
       "      <td>1.059457</td>\n",
       "      <td>1.029299</td>\n",
       "    </tr>\n",
       "    <tr>\n",
       "      <th>12</th>\n",
       "      <td>12</td>\n",
       "      <td>1.224490</td>\n",
       "      <td>1.106567</td>\n",
       "      <td>1.051935</td>\n",
       "    </tr>\n",
       "    <tr>\n",
       "      <th>13</th>\n",
       "      <td>13</td>\n",
       "      <td>1.326531</td>\n",
       "      <td>1.151751</td>\n",
       "      <td>1.073197</td>\n",
       "    </tr>\n",
       "    <tr>\n",
       "      <th>14</th>\n",
       "      <td>14</td>\n",
       "      <td>1.428571</td>\n",
       "      <td>1.195229</td>\n",
       "      <td>1.093265</td>\n",
       "    </tr>\n",
       "    <tr>\n",
       "      <th>15</th>\n",
       "      <td>15</td>\n",
       "      <td>1.530612</td>\n",
       "      <td>1.237179</td>\n",
       "      <td>1.112286</td>\n",
       "    </tr>\n",
       "    <tr>\n",
       "      <th>16</th>\n",
       "      <td>16</td>\n",
       "      <td>1.632653</td>\n",
       "      <td>1.277753</td>\n",
       "      <td>1.130377</td>\n",
       "    </tr>\n",
       "    <tr>\n",
       "      <th>17</th>\n",
       "      <td>17</td>\n",
       "      <td>1.734694</td>\n",
       "      <td>1.317078</td>\n",
       "      <td>1.147640</td>\n",
       "    </tr>\n",
       "    <tr>\n",
       "      <th>18</th>\n",
       "      <td>18</td>\n",
       "      <td>1.836735</td>\n",
       "      <td>1.355262</td>\n",
       "      <td>1.164157</td>\n",
       "    </tr>\n",
       "    <tr>\n",
       "      <th>19</th>\n",
       "      <td>19</td>\n",
       "      <td>1.938776</td>\n",
       "      <td>1.392399</td>\n",
       "      <td>1.180000</td>\n",
       "    </tr>\n",
       "    <tr>\n",
       "      <th>20</th>\n",
       "      <td>20</td>\n",
       "      <td>2.040816</td>\n",
       "      <td>1.428571</td>\n",
       "      <td>1.195229</td>\n",
       "    </tr>\n",
       "    <tr>\n",
       "      <th>21</th>\n",
       "      <td>21</td>\n",
       "      <td>2.142857</td>\n",
       "      <td>1.463850</td>\n",
       "      <td>1.209897</td>\n",
       "    </tr>\n",
       "    <tr>\n",
       "      <th>22</th>\n",
       "      <td>22</td>\n",
       "      <td>2.244898</td>\n",
       "      <td>1.498298</td>\n",
       "      <td>1.224050</td>\n",
       "    </tr>\n",
       "    <tr>\n",
       "      <th>23</th>\n",
       "      <td>23</td>\n",
       "      <td>2.346939</td>\n",
       "      <td>1.531972</td>\n",
       "      <td>1.237729</td>\n",
       "    </tr>\n",
       "    <tr>\n",
       "      <th>24</th>\n",
       "      <td>24</td>\n",
       "      <td>2.448980</td>\n",
       "      <td>1.564922</td>\n",
       "      <td>1.250968</td>\n",
       "    </tr>\n",
       "    <tr>\n",
       "      <th>25</th>\n",
       "      <td>25</td>\n",
       "      <td>2.551020</td>\n",
       "      <td>1.597191</td>\n",
       "      <td>1.263800</td>\n",
       "    </tr>\n",
       "    <tr>\n",
       "      <th>26</th>\n",
       "      <td>26</td>\n",
       "      <td>2.653061</td>\n",
       "      <td>1.628822</td>\n",
       "      <td>1.276253</td>\n",
       "    </tr>\n",
       "    <tr>\n",
       "      <th>27</th>\n",
       "      <td>27</td>\n",
       "      <td>2.755102</td>\n",
       "      <td>1.659850</td>\n",
       "      <td>1.288352</td>\n",
       "    </tr>\n",
       "    <tr>\n",
       "      <th>28</th>\n",
       "      <td>28</td>\n",
       "      <td>2.857143</td>\n",
       "      <td>1.690309</td>\n",
       "      <td>1.300119</td>\n",
       "    </tr>\n",
       "    <tr>\n",
       "      <th>29</th>\n",
       "      <td>29</td>\n",
       "      <td>2.959184</td>\n",
       "      <td>1.720228</td>\n",
       "      <td>1.311575</td>\n",
       "    </tr>\n",
       "    <tr>\n",
       "      <th>30</th>\n",
       "      <td>30</td>\n",
       "      <td>3.061224</td>\n",
       "      <td>1.749636</td>\n",
       "      <td>1.322738</td>\n",
       "    </tr>\n",
       "    <tr>\n",
       "      <th>31</th>\n",
       "      <td>31</td>\n",
       "      <td>3.163265</td>\n",
       "      <td>1.778557</td>\n",
       "      <td>1.333626</td>\n",
       "    </tr>\n",
       "    <tr>\n",
       "      <th>32</th>\n",
       "      <td>32</td>\n",
       "      <td>3.265306</td>\n",
       "      <td>1.807016</td>\n",
       "      <td>1.344253</td>\n",
       "    </tr>\n",
       "    <tr>\n",
       "      <th>33</th>\n",
       "      <td>33</td>\n",
       "      <td>3.367347</td>\n",
       "      <td>1.835033</td>\n",
       "      <td>1.354634</td>\n",
       "    </tr>\n",
       "    <tr>\n",
       "      <th>34</th>\n",
       "      <td>34</td>\n",
       "      <td>3.469388</td>\n",
       "      <td>1.862629</td>\n",
       "      <td>1.364782</td>\n",
       "    </tr>\n",
       "    <tr>\n",
       "      <th>35</th>\n",
       "      <td>35</td>\n",
       "      <td>3.571429</td>\n",
       "      <td>1.889822</td>\n",
       "      <td>1.374708</td>\n",
       "    </tr>\n",
       "    <tr>\n",
       "      <th>36</th>\n",
       "      <td>36</td>\n",
       "      <td>3.673469</td>\n",
       "      <td>1.916630</td>\n",
       "      <td>1.384424</td>\n",
       "    </tr>\n",
       "    <tr>\n",
       "      <th>37</th>\n",
       "      <td>37</td>\n",
       "      <td>3.775510</td>\n",
       "      <td>1.943067</td>\n",
       "      <td>1.393939</td>\n",
       "    </tr>\n",
       "    <tr>\n",
       "      <th>38</th>\n",
       "      <td>38</td>\n",
       "      <td>3.877551</td>\n",
       "      <td>1.969150</td>\n",
       "      <td>1.403264</td>\n",
       "    </tr>\n",
       "    <tr>\n",
       "      <th>39</th>\n",
       "      <td>39</td>\n",
       "      <td>3.979592</td>\n",
       "      <td>1.994891</td>\n",
       "      <td>1.412406</td>\n",
       "    </tr>\n",
       "    <tr>\n",
       "      <th>40</th>\n",
       "      <td>40</td>\n",
       "      <td>4.081633</td>\n",
       "      <td>2.020305</td>\n",
       "      <td>1.421374</td>\n",
       "    </tr>\n",
       "    <tr>\n",
       "      <th>41</th>\n",
       "      <td>41</td>\n",
       "      <td>4.183673</td>\n",
       "      <td>2.045403</td>\n",
       "      <td>1.430176</td>\n",
       "    </tr>\n",
       "    <tr>\n",
       "      <th>42</th>\n",
       "      <td>42</td>\n",
       "      <td>4.285714</td>\n",
       "      <td>2.070197</td>\n",
       "      <td>1.438818</td>\n",
       "    </tr>\n",
       "    <tr>\n",
       "      <th>43</th>\n",
       "      <td>43</td>\n",
       "      <td>4.387755</td>\n",
       "      <td>2.094697</td>\n",
       "      <td>1.447307</td>\n",
       "    </tr>\n",
       "    <tr>\n",
       "      <th>44</th>\n",
       "      <td>44</td>\n",
       "      <td>4.489796</td>\n",
       "      <td>2.118914</td>\n",
       "      <td>1.455649</td>\n",
       "    </tr>\n",
       "    <tr>\n",
       "      <th>45</th>\n",
       "      <td>45</td>\n",
       "      <td>4.591837</td>\n",
       "      <td>2.142857</td>\n",
       "      <td>1.463850</td>\n",
       "    </tr>\n",
       "    <tr>\n",
       "      <th>46</th>\n",
       "      <td>46</td>\n",
       "      <td>4.693878</td>\n",
       "      <td>2.166536</td>\n",
       "      <td>1.471916</td>\n",
       "    </tr>\n",
       "    <tr>\n",
       "      <th>47</th>\n",
       "      <td>47</td>\n",
       "      <td>4.795918</td>\n",
       "      <td>2.189959</td>\n",
       "      <td>1.479851</td>\n",
       "    </tr>\n",
       "    <tr>\n",
       "      <th>48</th>\n",
       "      <td>48</td>\n",
       "      <td>4.897959</td>\n",
       "      <td>2.213133</td>\n",
       "      <td>1.487660</td>\n",
       "    </tr>\n",
       "    <tr>\n",
       "      <th>49</th>\n",
       "      <td>49</td>\n",
       "      <td>5.000000</td>\n",
       "      <td>2.236068</td>\n",
       "      <td>1.495349</td>\n",
       "    </tr>\n",
       "  </tbody>\n",
       "</table>\n",
       "</div>"
      ],
      "text/plain": [
       "    Unnamed: 0         0         1         2\n",
       "0            0  0.000000  0.000000  0.000000\n",
       "1            1  0.102041  0.319438  0.565189\n",
       "2            2  0.204082  0.451754  0.672126\n",
       "3            3  0.306122  0.553283  0.743830\n",
       "4            4  0.408163  0.638877  0.799298\n",
       "5            5  0.510204  0.714286  0.845154\n",
       "6            6  0.612245  0.782461  0.884568\n",
       "7            7  0.714286  0.845154  0.919323\n",
       "8            8  0.816327  0.903508  0.950530\n",
       "9            9  0.918367  0.958315  0.978936\n",
       "10          10  1.020408  1.010153  1.005063\n",
       "11          11  1.122449  1.059457  1.029299\n",
       "12          12  1.224490  1.106567  1.051935\n",
       "13          13  1.326531  1.151751  1.073197\n",
       "14          14  1.428571  1.195229  1.093265\n",
       "15          15  1.530612  1.237179  1.112286\n",
       "16          16  1.632653  1.277753  1.130377\n",
       "17          17  1.734694  1.317078  1.147640\n",
       "18          18  1.836735  1.355262  1.164157\n",
       "19          19  1.938776  1.392399  1.180000\n",
       "20          20  2.040816  1.428571  1.195229\n",
       "21          21  2.142857  1.463850  1.209897\n",
       "22          22  2.244898  1.498298  1.224050\n",
       "23          23  2.346939  1.531972  1.237729\n",
       "24          24  2.448980  1.564922  1.250968\n",
       "25          25  2.551020  1.597191  1.263800\n",
       "26          26  2.653061  1.628822  1.276253\n",
       "27          27  2.755102  1.659850  1.288352\n",
       "28          28  2.857143  1.690309  1.300119\n",
       "29          29  2.959184  1.720228  1.311575\n",
       "30          30  3.061224  1.749636  1.322738\n",
       "31          31  3.163265  1.778557  1.333626\n",
       "32          32  3.265306  1.807016  1.344253\n",
       "33          33  3.367347  1.835033  1.354634\n",
       "34          34  3.469388  1.862629  1.364782\n",
       "35          35  3.571429  1.889822  1.374708\n",
       "36          36  3.673469  1.916630  1.384424\n",
       "37          37  3.775510  1.943067  1.393939\n",
       "38          38  3.877551  1.969150  1.403264\n",
       "39          39  3.979592  1.994891  1.412406\n",
       "40          40  4.081633  2.020305  1.421374\n",
       "41          41  4.183673  2.045403  1.430176\n",
       "42          42  4.285714  2.070197  1.438818\n",
       "43          43  4.387755  2.094697  1.447307\n",
       "44          44  4.489796  2.118914  1.455649\n",
       "45          45  4.591837  2.142857  1.463850\n",
       "46          46  4.693878  2.166536  1.471916\n",
       "47          47  4.795918  2.189959  1.479851\n",
       "48          48  4.897959  2.213133  1.487660\n",
       "49          49  5.000000  2.236068  1.495349"
      ]
     },
     "execution_count": 102,
     "metadata": {},
     "output_type": "execute_result"
    }
   ],
   "source": [
    "d"
   ]
  },
  {
   "cell_type": "code",
   "execution_count": 110,
   "metadata": {},
   "outputs": [],
   "source": []
  },
  {
   "cell_type": "code",
   "execution_count": 111,
   "metadata": {},
   "outputs": [
    {
     "data": {
      "text/html": [
       "<div>\n",
       "<style scoped>\n",
       "    .dataframe tbody tr th:only-of-type {\n",
       "        vertical-align: middle;\n",
       "    }\n",
       "\n",
       "    .dataframe tbody tr th {\n",
       "        vertical-align: top;\n",
       "    }\n",
       "\n",
       "    .dataframe thead th {\n",
       "        text-align: right;\n",
       "    }\n",
       "</style>\n",
       "<table border=\"1\" class=\"dataframe\">\n",
       "  <thead>\n",
       "    <tr style=\"text-align: right;\">\n",
       "      <th></th>\n",
       "      <th>Unnamed: 0</th>\n",
       "      <th>0</th>\n",
       "      <th>1</th>\n",
       "      <th>2</th>\n",
       "    </tr>\n",
       "  </thead>\n",
       "  <tbody>\n",
       "    <tr>\n",
       "      <th>10</th>\n",
       "      <td>10</td>\n",
       "      <td>1.020408</td>\n",
       "      <td>1.010153</td>\n",
       "      <td>1.005063</td>\n",
       "    </tr>\n",
       "    <tr>\n",
       "      <th>11</th>\n",
       "      <td>11</td>\n",
       "      <td>1.122449</td>\n",
       "      <td>1.059457</td>\n",
       "      <td>1.029299</td>\n",
       "    </tr>\n",
       "    <tr>\n",
       "      <th>12</th>\n",
       "      <td>12</td>\n",
       "      <td>1.224490</td>\n",
       "      <td>1.106567</td>\n",
       "      <td>1.051935</td>\n",
       "    </tr>\n",
       "    <tr>\n",
       "      <th>13</th>\n",
       "      <td>13</td>\n",
       "      <td>1.326531</td>\n",
       "      <td>1.151751</td>\n",
       "      <td>1.073197</td>\n",
       "    </tr>\n",
       "    <tr>\n",
       "      <th>14</th>\n",
       "      <td>14</td>\n",
       "      <td>1.428571</td>\n",
       "      <td>1.195229</td>\n",
       "      <td>1.093265</td>\n",
       "    </tr>\n",
       "    <tr>\n",
       "      <th>15</th>\n",
       "      <td>15</td>\n",
       "      <td>1.530612</td>\n",
       "      <td>1.237179</td>\n",
       "      <td>1.112286</td>\n",
       "    </tr>\n",
       "    <tr>\n",
       "      <th>16</th>\n",
       "      <td>16</td>\n",
       "      <td>1.632653</td>\n",
       "      <td>1.277753</td>\n",
       "      <td>1.130377</td>\n",
       "    </tr>\n",
       "    <tr>\n",
       "      <th>17</th>\n",
       "      <td>17</td>\n",
       "      <td>1.734694</td>\n",
       "      <td>1.317078</td>\n",
       "      <td>1.147640</td>\n",
       "    </tr>\n",
       "    <tr>\n",
       "      <th>18</th>\n",
       "      <td>18</td>\n",
       "      <td>1.836735</td>\n",
       "      <td>1.355262</td>\n",
       "      <td>1.164157</td>\n",
       "    </tr>\n",
       "    <tr>\n",
       "      <th>19</th>\n",
       "      <td>19</td>\n",
       "      <td>1.938776</td>\n",
       "      <td>1.392399</td>\n",
       "      <td>1.180000</td>\n",
       "    </tr>\n",
       "    <tr>\n",
       "      <th>20</th>\n",
       "      <td>20</td>\n",
       "      <td>2.040816</td>\n",
       "      <td>1.428571</td>\n",
       "      <td>1.195229</td>\n",
       "    </tr>\n",
       "    <tr>\n",
       "      <th>21</th>\n",
       "      <td>21</td>\n",
       "      <td>2.142857</td>\n",
       "      <td>1.463850</td>\n",
       "      <td>1.209897</td>\n",
       "    </tr>\n",
       "    <tr>\n",
       "      <th>22</th>\n",
       "      <td>22</td>\n",
       "      <td>2.244898</td>\n",
       "      <td>1.498298</td>\n",
       "      <td>1.224050</td>\n",
       "    </tr>\n",
       "    <tr>\n",
       "      <th>23</th>\n",
       "      <td>23</td>\n",
       "      <td>2.346939</td>\n",
       "      <td>1.531972</td>\n",
       "      <td>1.237729</td>\n",
       "    </tr>\n",
       "    <tr>\n",
       "      <th>24</th>\n",
       "      <td>24</td>\n",
       "      <td>2.448980</td>\n",
       "      <td>1.564922</td>\n",
       "      <td>1.250968</td>\n",
       "    </tr>\n",
       "    <tr>\n",
       "      <th>25</th>\n",
       "      <td>25</td>\n",
       "      <td>2.551020</td>\n",
       "      <td>1.597191</td>\n",
       "      <td>1.263800</td>\n",
       "    </tr>\n",
       "    <tr>\n",
       "      <th>26</th>\n",
       "      <td>26</td>\n",
       "      <td>2.653061</td>\n",
       "      <td>1.628822</td>\n",
       "      <td>1.276253</td>\n",
       "    </tr>\n",
       "    <tr>\n",
       "      <th>27</th>\n",
       "      <td>27</td>\n",
       "      <td>2.755102</td>\n",
       "      <td>1.659850</td>\n",
       "      <td>1.288352</td>\n",
       "    </tr>\n",
       "    <tr>\n",
       "      <th>28</th>\n",
       "      <td>28</td>\n",
       "      <td>2.857143</td>\n",
       "      <td>1.690309</td>\n",
       "      <td>1.300119</td>\n",
       "    </tr>\n",
       "    <tr>\n",
       "      <th>29</th>\n",
       "      <td>29</td>\n",
       "      <td>2.959184</td>\n",
       "      <td>1.720228</td>\n",
       "      <td>1.311575</td>\n",
       "    </tr>\n",
       "    <tr>\n",
       "      <th>30</th>\n",
       "      <td>30</td>\n",
       "      <td>3.061224</td>\n",
       "      <td>1.749636</td>\n",
       "      <td>1.322738</td>\n",
       "    </tr>\n",
       "    <tr>\n",
       "      <th>31</th>\n",
       "      <td>31</td>\n",
       "      <td>3.163265</td>\n",
       "      <td>1.778557</td>\n",
       "      <td>1.333626</td>\n",
       "    </tr>\n",
       "    <tr>\n",
       "      <th>32</th>\n",
       "      <td>32</td>\n",
       "      <td>3.265306</td>\n",
       "      <td>1.807016</td>\n",
       "      <td>1.344253</td>\n",
       "    </tr>\n",
       "    <tr>\n",
       "      <th>33</th>\n",
       "      <td>33</td>\n",
       "      <td>3.367347</td>\n",
       "      <td>1.835033</td>\n",
       "      <td>1.354634</td>\n",
       "    </tr>\n",
       "    <tr>\n",
       "      <th>34</th>\n",
       "      <td>34</td>\n",
       "      <td>3.469388</td>\n",
       "      <td>1.862629</td>\n",
       "      <td>1.364782</td>\n",
       "    </tr>\n",
       "    <tr>\n",
       "      <th>35</th>\n",
       "      <td>35</td>\n",
       "      <td>3.571429</td>\n",
       "      <td>1.889822</td>\n",
       "      <td>1.374708</td>\n",
       "    </tr>\n",
       "    <tr>\n",
       "      <th>36</th>\n",
       "      <td>36</td>\n",
       "      <td>3.673469</td>\n",
       "      <td>1.916630</td>\n",
       "      <td>1.384424</td>\n",
       "    </tr>\n",
       "    <tr>\n",
       "      <th>37</th>\n",
       "      <td>37</td>\n",
       "      <td>3.775510</td>\n",
       "      <td>1.943067</td>\n",
       "      <td>1.393939</td>\n",
       "    </tr>\n",
       "    <tr>\n",
       "      <th>38</th>\n",
       "      <td>38</td>\n",
       "      <td>3.877551</td>\n",
       "      <td>1.969150</td>\n",
       "      <td>1.403264</td>\n",
       "    </tr>\n",
       "    <tr>\n",
       "      <th>39</th>\n",
       "      <td>39</td>\n",
       "      <td>3.979592</td>\n",
       "      <td>1.994891</td>\n",
       "      <td>1.412406</td>\n",
       "    </tr>\n",
       "    <tr>\n",
       "      <th>40</th>\n",
       "      <td>40</td>\n",
       "      <td>4.081633</td>\n",
       "      <td>2.020305</td>\n",
       "      <td>1.421374</td>\n",
       "    </tr>\n",
       "    <tr>\n",
       "      <th>41</th>\n",
       "      <td>41</td>\n",
       "      <td>4.183673</td>\n",
       "      <td>2.045403</td>\n",
       "      <td>1.430176</td>\n",
       "    </tr>\n",
       "    <tr>\n",
       "      <th>42</th>\n",
       "      <td>42</td>\n",
       "      <td>4.285714</td>\n",
       "      <td>2.070197</td>\n",
       "      <td>1.438818</td>\n",
       "    </tr>\n",
       "    <tr>\n",
       "      <th>43</th>\n",
       "      <td>43</td>\n",
       "      <td>4.387755</td>\n",
       "      <td>2.094697</td>\n",
       "      <td>1.447307</td>\n",
       "    </tr>\n",
       "    <tr>\n",
       "      <th>44</th>\n",
       "      <td>44</td>\n",
       "      <td>4.489796</td>\n",
       "      <td>2.118914</td>\n",
       "      <td>1.455649</td>\n",
       "    </tr>\n",
       "    <tr>\n",
       "      <th>45</th>\n",
       "      <td>45</td>\n",
       "      <td>4.591837</td>\n",
       "      <td>2.142857</td>\n",
       "      <td>1.463850</td>\n",
       "    </tr>\n",
       "    <tr>\n",
       "      <th>46</th>\n",
       "      <td>46</td>\n",
       "      <td>4.693878</td>\n",
       "      <td>2.166536</td>\n",
       "      <td>1.471916</td>\n",
       "    </tr>\n",
       "    <tr>\n",
       "      <th>47</th>\n",
       "      <td>47</td>\n",
       "      <td>4.795918</td>\n",
       "      <td>2.189959</td>\n",
       "      <td>1.479851</td>\n",
       "    </tr>\n",
       "    <tr>\n",
       "      <th>48</th>\n",
       "      <td>48</td>\n",
       "      <td>4.897959</td>\n",
       "      <td>2.213133</td>\n",
       "      <td>1.487660</td>\n",
       "    </tr>\n",
       "    <tr>\n",
       "      <th>49</th>\n",
       "      <td>49</td>\n",
       "      <td>5.000000</td>\n",
       "      <td>2.236068</td>\n",
       "      <td>1.495349</td>\n",
       "    </tr>\n",
       "  </tbody>\n",
       "</table>\n",
       "</div>"
      ],
      "text/plain": [
       "    Unnamed: 0         0         1         2\n",
       "10          10  1.020408  1.010153  1.005063\n",
       "11          11  1.122449  1.059457  1.029299\n",
       "12          12  1.224490  1.106567  1.051935\n",
       "13          13  1.326531  1.151751  1.073197\n",
       "14          14  1.428571  1.195229  1.093265\n",
       "15          15  1.530612  1.237179  1.112286\n",
       "16          16  1.632653  1.277753  1.130377\n",
       "17          17  1.734694  1.317078  1.147640\n",
       "18          18  1.836735  1.355262  1.164157\n",
       "19          19  1.938776  1.392399  1.180000\n",
       "20          20  2.040816  1.428571  1.195229\n",
       "21          21  2.142857  1.463850  1.209897\n",
       "22          22  2.244898  1.498298  1.224050\n",
       "23          23  2.346939  1.531972  1.237729\n",
       "24          24  2.448980  1.564922  1.250968\n",
       "25          25  2.551020  1.597191  1.263800\n",
       "26          26  2.653061  1.628822  1.276253\n",
       "27          27  2.755102  1.659850  1.288352\n",
       "28          28  2.857143  1.690309  1.300119\n",
       "29          29  2.959184  1.720228  1.311575\n",
       "30          30  3.061224  1.749636  1.322738\n",
       "31          31  3.163265  1.778557  1.333626\n",
       "32          32  3.265306  1.807016  1.344253\n",
       "33          33  3.367347  1.835033  1.354634\n",
       "34          34  3.469388  1.862629  1.364782\n",
       "35          35  3.571429  1.889822  1.374708\n",
       "36          36  3.673469  1.916630  1.384424\n",
       "37          37  3.775510  1.943067  1.393939\n",
       "38          38  3.877551  1.969150  1.403264\n",
       "39          39  3.979592  1.994891  1.412406\n",
       "40          40  4.081633  2.020305  1.421374\n",
       "41          41  4.183673  2.045403  1.430176\n",
       "42          42  4.285714  2.070197  1.438818\n",
       "43          43  4.387755  2.094697  1.447307\n",
       "44          44  4.489796  2.118914  1.455649\n",
       "45          45  4.591837  2.142857  1.463850\n",
       "46          46  4.693878  2.166536  1.471916\n",
       "47          47  4.795918  2.189959  1.479851\n",
       "48          48  4.897959  2.213133  1.487660\n",
       "49          49  5.000000  2.236068  1.495349"
      ]
     },
     "execution_count": 111,
     "metadata": {},
     "output_type": "execute_result"
    }
   ],
   "source": []
  },
  {
   "cell_type": "code",
   "execution_count": null,
   "metadata": {},
   "outputs": [],
   "source": []
  }
 ],
 "metadata": {
  "kernelspec": {
   "display_name": "Python 3 (ipykernel)",
   "language": "python",
   "name": "python3"
  },
  "language_info": {
   "codemirror_mode": {
    "name": "ipython",
    "version": 3
   },
   "file_extension": ".py",
   "mimetype": "text/x-python",
   "name": "python",
   "nbconvert_exporter": "python",
   "pygments_lexer": "ipython3",
   "version": "3.9.7"
  }
 },
 "nbformat": 4,
 "nbformat_minor": 2
}
