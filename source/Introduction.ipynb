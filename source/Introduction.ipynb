{
 "cells": [
  {
   "cell_type": "markdown",
   "id": "dfa123b7-693a-4c03-86a0-2e245dfa8876",
   "metadata": {},
   "source": [
    "# Jupyter"
   ]
  },
  {
   "cell_type": "markdown",
   "id": "4c72de50-0a4a-4f02-bf94-27ed7ff622db",
   "metadata": {
    "tags": []
   },
   "source": [
    "Jupyter **Notebook** est un outil  qui permet avec le langage de scripting Python \n",
    "de créer et de partager des documents qui intègrent du code en direct, des équations, \n",
    "des résultats de calcul, des visualisations et d'autres ressources multimédias, ainsi \n",
    "qu'un texte explicatif dans un seul et même document.\n",
    "\n",
    "En parallèle **JupyterLab** est généralement considéré comme l'interface utilisateur de \n",
    "nouvelle génération pour le projet Jupyter.\n",
    "\n",
    "Intéréssant\n",
    "\n",
    "- partage de données\n",
    "- tout dans une seul fichier (texte + données)\n",
    "\n",
    "## Installation\n",
    "\n",
    "- Jupyter https://jupyter.org/install\n",
    "- Anaconda https://docs.anaconda.com/anaconda/install/\n",
    "\n",
    "## Sources (tutorials, all, )\n",
    "\n",
    "- https://github.com/jupyter/jupyter/wiki#a-gallery-of-interesting-jupyter-notebooks\n",
    "\n",
    "- lien Matpltlib (exos) https://nbviewer.org/github/jrjohansson/scientific-python-lectures/blob/master/Lecture-4-Matplotlib.ipynb"
   ]
  },
  {
   "cell_type": "code",
   "execution_count": null,
   "id": "1efb6463",
   "metadata": {},
   "outputs": [],
   "source": []
  }
 ],
 "metadata": {
  "kernelspec": {
   "display_name": "Python 3 (ipykernel)",
   "language": "python",
   "name": "python3"
  },
  "language_info": {
   "codemirror_mode": {
    "name": "ipython",
    "version": 3
   },
   "file_extension": ".py",
   "mimetype": "text/x-python",
   "name": "python",
   "nbconvert_exporter": "python",
   "pygments_lexer": "ipython3",
   "version": "3.9.7"
  }
 },
 "nbformat": 4,
 "nbformat_minor": 5
}
