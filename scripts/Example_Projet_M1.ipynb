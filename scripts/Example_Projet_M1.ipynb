{
 "cells": [
  {
   "cell_type": "markdown",
   "id": "ec202db7",
   "metadata": {},
   "source": [
    " # <line > <center>Project : <br>Computing and Analysing 3-bodys and 5-bodys Systems </center> </line>\n",
    "<font size='3'><div style=\"text-align: right\"> <font color='545454'>MATAR Ludovic, ED DAHHAOUI Abdelilah, IBRAHIM Yassine</font>  </div></font> \n",
    " ***"
   ]
  },
  {
   "cell_type": "markdown",
   "id": "09d3c038",
   "metadata": {},
   "source": [
    "All along the Calcul Scientifique course and its practical works, we've learned how to numerically solve different analytical systems in numerous ways. One numerical procedure for solving ordinary differential equations are numerical schemes, such as the Explicit Euler method. We've used them to compute simple functions, for instance the exponential one. Now, we want to use them to compute Hamiltonian systems."
   ]
  },
  {
   "cell_type": "markdown",
   "id": "daefa269",
   "metadata": {},
   "source": [
    "<div>\n",
    "<img src=\"soleil-terre-lune.jpg\" width=\"500\"/>\n",
    "</div>"
   ]
  },
  {
   "cell_type": "markdown",
   "id": "3b12114b",
   "metadata": {},
   "source": [
    "According to Wikipedia, the n-body problem is the problem of predicting the individual motions of a group of celestial objects interacting with each other gravitationally. Solving this problem is crucial to the understanding of the motions of the Sun, Moon, planets, and visible stars."
   ]
  },
  {
   "cell_type": "markdown",
   "id": "180c85f8",
   "metadata": {},
   "source": [
    "This project is heavily motivated (theory and data) by Shaula Fiorelli Vilmart and Gilles Vilmart's paper: **Computing the long term evolution of the solar system with geometric numerical integrators**. Other references will be listed at the end of the work."
   ]
  },
  {
   "cell_type": "markdown",
   "id": "234c42a1",
   "metadata": {},
   "source": [
    "## <font color='2c388e'>I. 3-bodys System: Sun, Earth and Moon</font> "
   ]
  },
  {
   "cell_type": "markdown",
   "id": "77012282",
   "metadata": {},
   "source": [
    "We first consider the Sun–Earth–Moon system, where for simplicity we neglect the other bodies and \n",
    "influences in the solar system. We represent the\n",
    "positions of these three bodies at time t as \n",
    "$$ q_i(t)$$\n",
    "where $i = 0$ corresponds to the Sun, $i = 1$ to the Earth, and $i = 2$ to the Moon.\n",
    "\n",
    "Given the quasi-steady orbital properties of the Sun, Earth and Moon, we want to compute their interactive forces and predict their true orbital motions for all future times, using numerical schemes. We then want to study and analyse :\n",
    "- the behaviour for long time simulations,\n",
    "- the system stability ."
   ]
  },
  {
   "cell_type": "markdown",
   "id": "ba9b1b91",
   "metadata": {},
   "source": [
    "### <font color='2986ae'>I. A) Equations</font> "
   ]
  },
  {
   "cell_type": "markdown",
   "id": "6f9cdef6",
   "metadata": {},
   "source": [
    "Newton's universal law of gravitation states the following formula, with $\\vec{F}_{1\\rightarrow 2}$ denoting the gravitational force applied by a body 1 (e.g. the Earth) to a body 2 (e.g. the Moon) :\n",
    "$$\\vec{F}_{1\\rightarrow 2} = - \\vec{F}_{2\\rightarrow 1} = - G\\frac{m_1m_2}{D^{2}}\\vec{u}$$\n",
    "where :\n",
    "- $G$ is the universal constant of gravitation, \n",
    "- $D$ the distance between the two bodies,\n",
    "- $\\vec{u}$ the vector with unit length in the direction from 1 to 2.\n",
    "\n",
    "The second law of dyamics then states that : \n",
    "\n",
    "$$ \\vec{p_0}' = \\vec{F}_{1\\rightarrow 0} + \\vec{F}_{2\\rightarrow 0} $$\n",
    "$$\\vec{p_1}' = \\vec{F}_{0\\rightarrow 1} + \\vec{F}_{2\\rightarrow 1} $$\n",
    "$$\\vec{p_2}' = \\vec{F}_{0\\rightarrow 2} + \\vec{F}_{1\\rightarrow 2} $$\n",
    "\n",
    "where $ \\vec{p_i} = m_i \\vec{q_i}'$.\n",
    "\n",
    "\n",
    "Taking both laws, we get a system of six differential equations, to which we apply our numerical schemes."
   ]
  },
  {
   "cell_type": "markdown",
   "id": "5dbe30b0",
   "metadata": {},
   "source": [
    "The initial data we are given includes masses, positions and initial velocities of the Sun, the Earth and the Moon at a given date (01/01/2016), as well as the value of G. \n",
    "The initial positions and velocities are given in three dimensions. As such we will define our initial arrays (lines) of $p_i$ and $q_i$ like so :\n",
    "\n",
    "$$ q(0) = \\begin{bmatrix}\n",
    "q_{0x}(0) & \\\\\n",
    "q_{0y}(0)& \\\\\n",
    "\\vdots& \\\\\n",
    "q_{2z}(0)& \\\\\n",
    "\\end{bmatrix}\\left.\\begin{matrix}\n",
    " & \\\\\n",
    " & \\\\\n",
    "& \\\\\n",
    "& \\\\\n",
    "\\end{matrix}\\right\\} \\: \\: 9 \\, \\text{lines}$$ \n",
    "\n",
    "\n",
    "$$ p(0) = \\begin{bmatrix}\n",
    "p_{0x}(0) & \\\\\n",
    "p_{0y}(0)& \\\\\n",
    "\\vdots& \\\\\n",
    "p_{2z}(0)& \\\\\n",
    "\\end{bmatrix}\\left.\\begin{matrix}\n",
    " & \\\\\n",
    " & \\\\\n",
    "& \\\\\n",
    "& \\\\\n",
    "\\end{matrix}\\right\\} \\: \\: 9 \\, \\text{lines}$$ "
   ]
  },
  {
   "cell_type": "markdown",
   "id": "d74aa8ae",
   "metadata": {},
   "source": [
    "We will compute the values of positions and velocities for a given period of time $t_{max}$, equally spread over a certain number $n$ of timesteps $dt$. At each timestep, the 9 new values of $q_i$ and $p_i$ are calculated and added as a new column to the initial arrays, so that they become :\n",
    "\n",
    "$$q(t_{max}) = \\underbrace{\\begin{bmatrix}\n",
    "q_{0x}(0) & q_{0x}(dt) & q_{0x}(2dt) & \\cdots  & q_{0x}(t_{max}) \\\\\n",
    "q_{0y}(0) & q_{0y}(dt) & q_{0y}(2dt) & \\cdots  & q_{0y}(t_{max})\\\\\n",
    "\\vdots & \\vdots & \\vdots & \\vdots \\\\\n",
    "q_{2z}(0) & q_{2z}(dt) & q_{2z}(2dt) & \\cdots  & q_{2z}(t_{max}) \\\\\n",
    "\\end{bmatrix}}\\left.\\begin{matrix}\n",
    " & \\\\\n",
    " & \\\\\n",
    "& \\\\\n",
    "& \\\\\n",
    "& \\\\\n",
    "\\end{matrix}\\right\\} \\: \\: 9 \\, \\text{lines}$$\n",
    "$$ n = \\frac{t_{max}}{dt} \\:\\: \\text{columns} $$ same for $p(t_{max})$."
   ]
  },
  {
   "cell_type": "code",
   "execution_count": null,
   "id": "0e16ab59",
   "metadata": {},
   "outputs": [],
   "source": [
    "#importing necessary modules\n",
    "\n",
    "import numpy as np\n",
    "import matplotlib.pyplot as plt\n",
    "from mpl_toolkits.mplot3d import Axes3D\n",
    "from matplotlib import animation"
   ]
  },
  {
   "cell_type": "code",
   "execution_count": null,
   "id": "7e332e6d",
   "metadata": {},
   "outputs": [],
   "source": [
    "# Functions that compute the time derivatives of positions and momenta\n",
    "\n",
    "# Obtaining q' using p\n",
    "def fun_u(p,m):\n",
    "    f = np.zeros(len(p)) #creates empty array the size of p\n",
    "    for j in range(int(len(p)/3)):\n",
    "        f[j*3:(j+1)*3] = p[j*3:(j+1)*3]/m[j]     # computes each q' using the momentum definition\n",
    "    return f\n",
    "\n",
    "# Obtaining p' using q\n",
    "def fun_v(q,m):\n",
    "    G = 2.95912208286e-4   #universal constant\n",
    "    def vecf(v0):\n",
    "        v = v0/(np.linalg.norm(v0)**3)   # returns the correct value of 1/D²\n",
    "        return v\n",
    "    f = np.zeros(len(q))            #creates empty array the size of q\n",
    "    for i in range(int(len(q)/3)):\n",
    "        for j in range(int(len(q)/3)):\n",
    "            if j!=i:\n",
    "                f[i*3:(i+1)*3] -= G*m[i]*m[j]*vecf(q[i*3:(i+1)*3]- q[j*3:(j+1)*3])  # p' using universal law of gravitation\n",
    "    return f"
   ]
  },
  {
   "cell_type": "markdown",
   "id": "0d9caeb9",
   "metadata": {},
   "source": [
    "### <font color='2986ae'>I. B) Numerical schemes application </font> "
   ]
  },
  {
   "cell_type": "markdown",
   "id": "6efe26d9",
   "metadata": {},
   "source": [
    "There are a number of numerical schemes we can use in order to solve the equations. During this work, we'll focus only on three : **Symplectic Euler**, **Explicit Euler**, and **Verlet**. "
   ]
  },
  {
   "cell_type": "markdown",
   "id": "f8deabe4",
   "metadata": {},
   "source": [
    "#### <font color=' #37a7d8'>I. B. 1) Symplectic Euler </font> "
   ]
  },
  {
   "cell_type": "markdown",
   "id": "6b473c5f",
   "metadata": {},
   "source": [
    "**Symplectic Euler**, also known as the semi-implicit Euler method is a numerical integration scheme designed for Hamiltonian systems. It is described by the following formula for $q$ and $p$ :\n",
    "\n",
    "$$(q_{n+1}, p_{n+1}) = (q_n ,  p_n) + dt (q_n',p_{n+1}')$$\n",
    "\n",
    "Since it's a symplectic integrator, it should be stable for our system, as its primary purpose is the computation of long-term evolution Hamiltonian systems, possibly chaotic ones."
   ]
  },
  {
   "cell_type": "code",
   "execution_count": null,
   "id": "6346a673",
   "metadata": {},
   "outputs": [],
   "source": [
    "# The dd value will serve to create sampled (vq_samp, vp_samp) arrays of the final arrays of p and q\n",
    "# Since we are running long time simulations, we will need them if we want to animate the trajectories for less time\n",
    "\n",
    "def euler_sympletic(tmax,dt,p0,q0,m,dd):\n",
    "    n = int(tmax/dt)  \n",
    "    n2 = int(n/dd)+1  \n",
    "    vp = np.zeros((len(p0),n)) \n",
    "    vq = np.zeros((len(q0),n))\n",
    "    t = np.zeros((n))\n",
    "    vp[:,0] = p0\n",
    "    vq[:,0] = q0\n",
    "    vp_samp = np.zeros((len(p0),n2))\n",
    "    vq_samp = np.zeros((len(q0),n2))\n",
    "    t_samp = np.zeros((n2))\n",
    "    j =0\n",
    "    for i in range(0,n-1):\n",
    "        vq[:,i+1] = vq[:,i] + dt * fun_u(vp[:,i],m)    #numerical scheme\n",
    "        vp[:,i+1] = vp[:,i] + dt * fun_v(vq[:,i+1],m)\n",
    "        t[i+1] = dt+t[i]\n",
    "        if i%dd==0:\n",
    "            vp_samp[:,j] = vp[:,i]       #sampling every ddth value\n",
    "            vq_samp[:,j] = vq[:,i]\n",
    "            t_samp[j] = t[i]\n",
    "            j+=1\n",
    "    return t,vp,vq,vq_samp, vp_samp,t_samp\n",
    "\n",
    "def focus_sun(q):  #get a better view of the trajectories\n",
    "    q[6:9,:] = q[3:6,:] + 100*(q[6:9,:]-q[3:6,:])\n",
    "    q[3:6,:] = q[3:6,:] - q[0:3,:]  \n",
    "    q[6:9,:] = q[6:9,:] - q[0:3,:]\n",
    "    return q"
   ]
  },
  {
   "cell_type": "markdown",
   "id": "1951b790",
   "metadata": {},
   "source": [
    "#### <font color=' #37a7d8'>I. B. 2) Computation and Simulation </font> "
   ]
  },
  {
   "cell_type": "markdown",
   "id": "0a0e653f",
   "metadata": {},
   "source": [
    "Let's try to compute this 3-bodys system evolution, using initial data found in reference."
   ]
  },
  {
   "cell_type": "code",
   "execution_count": null,
   "id": "407395ea",
   "metadata": {},
   "outputs": [],
   "source": [
    "#initial data \n",
    "\n",
    "m_0 = 1.  #sun mass, reference point\n",
    "m_1 = 3.00348959632E-6 #earth mass relative to sun's\n",
    "m_2 = 1.23000383E-2 * m_1 #moon mass relative to sun's\n",
    "m = np.array([m_0,m_1,m_2])\n",
    "q0=np.array([0,0,0,-0.1667743823220, 0.9690675883429,-0.0000342671456,-0.1694619061456, 0.9692330175719,-0.0000266725711])\n",
    "#positions in ua\n",
    "v0=np.array([0,0,0,-0.0172346557280,-0.0029762680930,-0.0000004154391,-0.0172817331582,-0.0035325102831,0.0000491191454])\n",
    "#velocities in ua/d\n",
    "p0 = np.zeros(9)\n",
    "p0[0:3]= v0[0:3]*m_0\n",
    "p0[3:6]= v0[3:6]*m_1\n",
    "p0[6:9]= v0[6:9]*m_2"
   ]
  },
  {
   "cell_type": "markdown",
   "id": "f13cde02",
   "metadata": {},
   "source": [
    "The initial data and functions being defined, we now want to run a simulation of the evolution of the three bodies. To properly determine the system's as well as the scheme's stability, we will compute for $t_{max} = 10 \\, \\text{years}$. For this fixed period of time, we will also try different timesteps : $dt = 1, 2, 3$ and $4$ days."
   ]
  },
  {
   "cell_type": "code",
   "execution_count": null,
   "id": "21afde4c",
   "metadata": {},
   "outputs": [],
   "source": [
    "#plotting the system evolution for different timesteps \n",
    "\n",
    "def stabilityplot(dt,scheme,m, p0 = p0, q0 = q0):\n",
    "    plt.figure(figsize=(8,8))\n",
    "    plt.suptitle(f'3-bodys-system evolution over 10 years, {scheme.__name__} scheme',fontsize=10)\n",
    "    for (j,dt) in enumerate(dt):\n",
    "        t_max = 365*10 #in days\n",
    "        \n",
    "        #computing for each dt\n",
    "        t,p,q,samp_q, samp_p,samp_t = scheme(tmax = t_max, dt = dt, p0 = p0, q0 = q0,m=m,dd=15.0) \n",
    "        q = focus_sun(q) # \n",
    "        \n",
    "        #plot \n",
    "        ax = plt.subplot(2,2,j+1)\n",
    "        ax.plot(q[0,:],q[1,:],'o', c='orange', label='Sun')\n",
    "        ax.plot(q[3,:],q[4,:], 'b-o',label='Earth')\n",
    "        ax.plot(q[6,:],q[7,:], 'k', label='Moon')\n",
    "        ax.set_title(label=f'dt ={dt} days and n = {int(t_max/dt)} time steps', fontsize=10)\n",
    "        if j > 1 :\n",
    "            plt.xlabel(r'$q_x$ (ua)')\n",
    "        if j == 0 or j == 2 :\n",
    "            plt.ylabel(r'$q_y$ (ua)')\n",
    "    plt.legend(bbox_to_anchor=(-1.2, 2.5),prop={'size':8})\n",
    "        #p.figure(figsize=(6,6))\n",
    "        #ax.margins(x=1, y=1) \n",
    "        #ax.axis(\"off\")\n",
    "    plt.show()\n",
    "\n"
   ]
  },
  {
   "cell_type": "code",
   "execution_count": null,
   "id": "5e5b7a02",
   "metadata": {},
   "outputs": [],
   "source": [
    "stabilityplot(dt = np.array([1, 2,3,4]),scheme = euler_sympletic,m=m, p0 = p0, q0 = q0)"
   ]
  },
  {
   "cell_type": "markdown",
   "id": "462f1a46",
   "metadata": {},
   "source": [
    "Here we have plotted the three bodies's positions in the x and y plane. As we can see, for a relatively small $dt = 1 \\, \\text{day}$ (to the scale of the simulation), the symplectic euler method seems to be stable, as the trajectories are in line with how we are expecting the three bodies to behave. However, taking bigger timesteps ends up with differing results, as the scheme struggles more and more to properly approximate the trajectories, especially the Moon's. Indeed, with $dt = 4 \\, \\text{days}$, we can already see the Moon completely diverging at some point in time."
   ]
  },
  {
   "cell_type": "markdown",
   "id": "9db23b3d",
   "metadata": {},
   "source": [
    "To see the system's behavior more clearly, we can plot the trajectories in 3d."
   ]
  },
  {
   "cell_type": "code",
   "execution_count": null,
   "id": "55909e2d",
   "metadata": {},
   "outputs": [],
   "source": [
    "t_max = 365*10\n",
    "\n",
    "#dt = 1 \n",
    "t,p,q,samp_q, samp_p,samp_t = euler_sympletic(tmax = t_max, dt = 1, p0 = p0, q0 = q0,m=m,dd=2.0)\n",
    "q = focus_sun(q) # focus with respect to the sun and multiply by 100 the earth moon distance\n",
    "samp_q = focus_sun(samp_q)\n",
    "\n",
    "#dt = 4\n",
    "t4,p4,q4,samp_q4, samp_p4,samp_t4 = euler_sympletic(tmax = t_max, dt = 4, p0 = p0, q0 = q0,m=m,dd=1.0)\n",
    "q4 = focus_sun(q4) # focus with respect to the sun and multiply by 100 the earth moon distance\n",
    "samp_q4 = focus_sun(samp_q4)"
   ]
  },
  {
   "cell_type": "code",
   "execution_count": null,
   "id": "feb1e15b",
   "metadata": {},
   "outputs": [],
   "source": [
    "class cat():\n",
    "    def __init__(self, q,t):\n",
    "        super().__init__()\n",
    "        self.dataSet = q\n",
    "        self.t = t\n",
    "    def dataSet(self):\n",
    "        return self.dataSet\n",
    "    def __len__(self):\n",
    "        return len(self.dataSet[0])\n",
    "    def __getitem__(self,index):\n",
    "        return self.dataSet[index]\n",
    "    def animate_func(self, num):\n",
    "        ax.clear()  # Clears the figure to update the line, point,   \n",
    "                    # title, and axes\n",
    "        # Updating Trajectory Line (num+1 due to Python indexing)\n",
    "        ax.scatter(self.dataSet[3,np.max([0,num-120]):num+1], self.dataSet[4,np.max([0,num-120]):num+1],self.dataSet[5,np.max([0,num-120]):num+1], c='blue', marker='o', s = 2)\n",
    "        ax.scatter(self.dataSet[6,np.max([0,num-40]):num+1], self.dataSet[7,np.max([0,num-40]):num+1],self.dataSet[8,np.max([0,num-40]):num+1], c='black', marker='o', s = 5)\n",
    "        #ax.plot3D(self.dataSet[np.max([0,num-40]):num+1,2,0], self.dataSet[np.max([0,num-40]):num+1,2,1],self.dataSet[np.max([0,num-40]):num+1,2,2], c='orange')\n",
    "        # Updating Point Location \n",
    "        ax.scatter(self.dataSet[3,num], self.dataSet[4,num], self.dataSet[5,num],c='blue', marker='o', label='Earth')\n",
    "        ax.scatter(self.dataSet[6,num], self.dataSet[7,num], self.dataSet[8,num],c='black', marker='o', label='Moon')\n",
    "        # Adding Constant Origin\n",
    "        ax.scatter(self.dataSet[0, 0], self.dataSet[1, 0], self.dataSet[2, 0],c='orange', marker='o',label='Sun')\n",
    "        # Setting Axes Limits\n",
    "        ax.set_xlim3d([-1, 1])\n",
    "        ax.set_ylim3d([-1, 1])\n",
    "        ax.set_zlim3d([-.5, .5])\n",
    "        # Adding Figure Labels\n",
    "        months = int(np.round(self.t[num],decimals=2))//30\n",
    "        y = months//12\n",
    "        if months >=  12:\n",
    "            months = months%12\n",
    "        months = str(months)\n",
    "        y = str(y)\n",
    "        ax.legend()\n",
    "        ax.set_title(f'Trajectory three bodies for dt = {dt} \\nTime = {y} years {months} months \\n{scheme} scheme ')\n",
    "        ax.set_xlabel('x')\n",
    "        ax.set_ylabel('y')\n",
    "        ax.set_zlabel('z')    "
   ]
  },
  {
   "cell_type": "code",
   "execution_count": null,
   "id": "6b787920",
   "metadata": {},
   "outputs": [],
   "source": [
    "%matplotlib notebook\n",
    "dt = 1\n",
    "scheme = euler_sympletic.__name__\n",
    "q_SE = cat(samp_q,samp_t)\n",
    "fig0 = plt.figure()\n",
    "ax = plt.axes(projection='3d')\n",
    "line_ani = animation.FuncAnimation(fig0, q_SE.animate_func, interval=1,frames=len(q_SE))\n",
    "plt.show()"
   ]
  },
  {
   "cell_type": "code",
   "execution_count": null,
   "id": "f29d4e1e",
   "metadata": {},
   "outputs": [],
   "source": [
    "%matplotlib notebook\n",
    "dt = 4\n",
    "q_SE4 = cat(samp_q4,samp_t4)\n",
    "fig4 = plt.figure(4)\n",
    "ax = plt.axes(projection='3d')\n",
    "line_ani4 = animation.FuncAnimation(fig4, q_SE4.animate_func, interval=1,frames=len(q_SE4))\n",
    "plt.show()"
   ]
  },
  {
   "cell_type": "markdown",
   "id": "8b164fcb",
   "metadata": {},
   "source": [
    "As we can see, around the 6th month of the second year of simulation, for a $dt = 4 \\, \\text{days}$, the Moon ceases the orbit around the Earth and diverges far from the other celestial bodies.\n",
    "This prompts us to determine the range of timesteps that is acceptable for a simulation of our system."
   ]
  },
  {
   "cell_type": "markdown",
   "id": "a0dfd0b3",
   "metadata": {},
   "source": [
    "#### <font color=' #37a7d8'>I. B. 3) Scheme stability </font> "
   ]
  },
  {
   "cell_type": "markdown",
   "id": "bc572e84",
   "metadata": {},
   "source": [
    "A notable property of Hamiltonian systems is the conservation of their energy, and the **conservation of their linear momentum** $P$ **and angular momentum** $L$ :\n",
    "\n",
    "$$P = \\sum_{i=1}^{N}p_i$$\n",
    "$$L = \\sum_{i=1}^{N}q_i\\times p_i$$\n",
    "\n",
    "$N$ being the total number of bodies in the system.\n",
    "\n",
    "\n",
    "We want to see if those quantities are conserved with our scheme, for a wide variety of timesteps. To do so, we compute the ratio of the last two momenta for several timesteps."
   ]
  },
  {
   "cell_type": "code",
   "execution_count": null,
   "id": "0d23c6a8",
   "metadata": {},
   "outputs": [],
   "source": [
    "def Ratios(p0, q0,scheme, t_max = 365*10, dt = np.arange(1,500)):\n",
    "    P = np.zeros((len(dt),3))\n",
    "    RatioP = np.empty(0)\n",
    "    RatioL = np.empty(0)\n",
    "    for i in range(len(dt)):\n",
    "        t,p,q,_,_,_ = scheme(tmax = t_max, dt = dt[i], p0 = p0, q0 = q0,m=m,dd=15.0)\n",
    "        Ps = np.zeros((2,3))\n",
    "        Ls = np.zeros((2,3))\n",
    "        for j in [-2,-1]:  #last two quantities\n",
    "            P=0\n",
    "            L=0\n",
    "            for k in range(int(len(q[:,0])/3)):\n",
    "                P+= p[k*3:(k+1)*3,j]\n",
    "                d = np.cross(q[k*3:(k+1)*3,j],p[k*3:(k+1)*3,j])\n",
    "                L+= d\n",
    "            Ps[j] = P\n",
    "            Ls[j] = L\n",
    "        RatioP = np.append(RatioP, np.linalg.norm(Ps[-1])/np.linalg.norm(Ps[-2]))\n",
    "        RatioL = np.append(RatioL, np.linalg.norm(Ls[-1])/np.linalg.norm(Ls[-2]))\n",
    "    return RatioP, RatioL"
   ]
  },
  {
   "cell_type": "code",
   "execution_count": null,
   "id": "55dbfea8",
   "metadata": {},
   "outputs": [],
   "source": [
    "RatioP, RatioL = Ratios(p0,q0,euler_sympletic)"
   ]
  },
  {
   "cell_type": "code",
   "execution_count": null,
   "id": "98520cd8",
   "metadata": {},
   "outputs": [],
   "source": [
    "#plot\n",
    "plt.figure()\n",
    "plt.plot(RatioP)\n",
    "plt.xlabel('dt (in days)')\n",
    "plt.ylabel(\"Ratio\")\n",
    "plt.title('Linear momentum ratio (||Pn+1||/||Pn||)')\n",
    "plt.show()\n",
    "plt.figure()\n",
    "plt.plot(RatioL)\n",
    "plt.xlabel('dt (in days)')\n",
    "plt.ylabel(\"Ratio\")\n",
    "plt.title('Angular  momentum ratio (||Pn+1||/||Pn||)')\n",
    "plt.show()"
   ]
  },
  {
   "cell_type": "markdown",
   "id": "c1477954",
   "metadata": {},
   "source": [
    "The results show us that the system's total energy seems to be conserved for a wide range of timesteps. Nevertheless, the bigger the timestep, the less stable is that conservation, even if the variations are very slight. This shows that for our numerical integrator to work well, it is best to use the smallest timestep possible, having in mind for how long we want to observe the system's evolution. For an evolution of 10 years, $dt = 1 \\, \\text{day}$ seems to be enough, and **the Symplectic Euler scheme is stable for our system**."
   ]
  },
  {
   "cell_type": "markdown",
   "id": "517abcb5",
   "metadata": {},
   "source": [
    "#### <font color=' #37a7d8'>I. B. 4) Conclusion </font> \n",
    "\n",
    "For a small enough timestep, here $dt = 1 \\, \\text{day}$, the bodies behave as expected and there are no atypical behaviors from the system, even past 10 years of simulation. From this observation, and knowing that Symplectic integrators  compute Hamiltonian system, we can  assume that the **3-body-system is stable** in the long term."
   ]
  },
  {
   "cell_type": "markdown",
   "id": "45f6ca6c",
   "metadata": {},
   "source": [
    "#### <font color=' #37a7d8'>I. C. Explicit Euler </font> "
   ]
  },
  {
   "cell_type": "markdown",
   "id": "7b74ca7e",
   "metadata": {},
   "source": [
    "**Explicit Euler** is another numerical integration scheme. It is described by the following formula for $q$ and $p$ :\n",
    "\n",
    "$$(q_{n+1}, p_{n+1}) = (q_n ,  p_n) + dt (q_n',p_n')$$\n",
    "\n",
    "This scheme, while being fairly well known, is never used for the resolution of systems as it isn't very accurate. Let's see how it fares for our system."
   ]
  },
  {
   "cell_type": "code",
   "execution_count": null,
   "id": "de680be5",
   "metadata": {},
   "outputs": [],
   "source": [
    "def euler_explicit(tmax,dt,p0,q0,m,dd):\n",
    "    n = int(t_max/dt)\n",
    "    n2 = int(n/dd)+1\n",
    "    vp = np.zeros((len(p0),n))\n",
    "    vq = np.zeros((len(q0),n))\n",
    "    vp[:,0] = p0\n",
    "    vq[:,0] = q0\n",
    "    vp_samp = np.zeros((len(p0),n2))\n",
    "    vq_samp = np.zeros((len(q0),n2))\n",
    "    t_samp = np.zeros((n2))\n",
    "    t = np.zeros((n))\n",
    "    j =0\n",
    "    for i in range(0,n-1):\n",
    "        vq[:,i+1] = vq[:,i] + dt * fun_u(vp[:,i],m)\n",
    "        vp[:,i+1] = vp[:,i] + dt * fun_v(vq[:,i],m)\n",
    "        t[i+1] = dt+t[i]\n",
    "        if i%dd==0:\n",
    "            vp_samp[:,j] = vp[:,i]\n",
    "            vq_samp[:,j] = vq[:,i]\n",
    "            t_samp[j] = t[i]\n",
    "            j+=1\n",
    "    return t,vp,vq,vq_samp, vp_samp,t_samp"
   ]
  },
  {
   "cell_type": "code",
   "execution_count": null,
   "id": "ede1796c",
   "metadata": {
    "scrolled": false
   },
   "outputs": [],
   "source": [
    "#computation and plot \n",
    "\n",
    "stabilityplot(dt = np.array([0.1, 2,3,4]),scheme = euler_explicit,m=m, p0 = p0, q0 = q0)"
   ]
  },
  {
   "cell_type": "markdown",
   "id": "2ca94d2f",
   "metadata": {},
   "source": [
    "We can already see that for a very small timestep $dt = 0.1 \\, \\text{days}$, the system isn't behaving correctly. This is the same for subsequent bigger timesteps. From this, we can already conclude that the **Explicit Euler scheme isn't stable for Hamiltonian Systems**."
   ]
  },
  {
   "cell_type": "markdown",
   "id": "4d464e89",
   "metadata": {},
   "source": [
    "Let's see it in 3D :"
   ]
  },
  {
   "cell_type": "code",
   "execution_count": null,
   "id": "b992de8b",
   "metadata": {},
   "outputs": [],
   "source": [
    "dt = 0.1 \n",
    "scheme = euler_explicit.__name__\n",
    "t_max = 365*10\n",
    "t_ee,p_ee,q_ee,samp_q_ee, samp_p_ee,samp_t_ee  = euler_explicit(tmax = t_max, dt = dt, p0 = p0, q0 = q0,dd=15,m=m)\n",
    "# focus with respect to the sun\n",
    "q_ee = focus_sun(q_ee)\n",
    "samp_q_ee = focus_sun(samp_q_ee)\n",
    "q_EE = cat(samp_q_ee,samp_t_ee)"
   ]
  },
  {
   "cell_type": "code",
   "execution_count": null,
   "id": "387bbc43",
   "metadata": {
    "scrolled": false
   },
   "outputs": [],
   "source": [
    "%matplotlib notebook\n",
    "fig0 = plt.figure()\n",
    "ax = plt.axes(projection='3d')\n",
    "line_ani = animation.FuncAnimation(fig0, q_EE.animate_func, interval=.0001,frames=len(q_EE))\n",
    "plt.show()"
   ]
  },
  {
   "cell_type": "markdown",
   "id": "f619f6da",
   "metadata": {},
   "source": [
    "The same observation can be made, as we can see the Moon orbits out of sight pretty early."
   ]
  },
  {
   "cell_type": "markdown",
   "id": "648bf7f5",
   "metadata": {},
   "source": [
    "#### <font color=' #37a7d8'>I. D. Verlet </font> "
   ]
  },
  {
   "cell_type": "markdown",
   "id": "a2d04891",
   "metadata": {},
   "source": [
    "The last numerical integration scheme we'll take a look at is called **Verlet**. It is described by the following formula for $q$ and $p$ :\n",
    "\n",
    "$$p_{aux} = p_n + 0.5  dt  p_n'$$\n",
    "$$(q_{n+1}, p_{n+1}) = (q_n ,  p_n) + dt (\\frac{p_{aux}}{m}, \\frac{1}{2} (q_{n+1}' + q_n' ))$$\n",
    "    \n",
    "According to Wikipedia, it is frequently used to calculate trajectories of particles in molecular dynamics simulations for example. As it used to integrate Newton's equations, there's a good chance it's compatible for our system."
   ]
  },
  {
   "cell_type": "code",
   "execution_count": null,
   "id": "94e22e20",
   "metadata": {},
   "outputs": [],
   "source": [
    "def verlet(tmax,dt,p0,q0,m,dd):\n",
    "    n = int(tmax/dt)\n",
    "    n2 = int(n/dd)+1\n",
    "    vp = np.zeros((len(p0),n))\n",
    "    vq = np.zeros((len(q0),n))\n",
    "    vp[:,0] = p0\n",
    "    vq[:,0] = q0\n",
    "    vp_samp = np.zeros((len(p0),n2))\n",
    "    vq_samp = np.zeros((len(q0),n2))\n",
    "    t_samp = np.zeros((n2))\n",
    "    t = np.zeros((n))\n",
    "    j =0\n",
    "    for i in range(n-1):\n",
    "        p_aux = vp[:,i] + 0.5*dt*fun_v(vq[:,i],m)\n",
    "        vq[:,i+1] = vq[:,i]+ dt*fun_u(p_aux,m)\n",
    "        vp[:,i+1] = vp[:,i]+ 0.5*dt*(fun_v(vq[:,i+1],m) + fun_v(vq[:,i],m))\n",
    "        t[i+1] = dt+t[i]\n",
    "        if i%dd==0:\n",
    "            vp_samp[:,j] = vp[:,i]\n",
    "            vq_samp[:,j] = vq[:,i]\n",
    "            t_samp[j] = t[i]\n",
    "            j+=1\n",
    "        \n",
    "    return t,vp,vq,vq_samp, vp_samp,t_samp"
   ]
  },
  {
   "cell_type": "code",
   "execution_count": null,
   "id": "14be3bcf",
   "metadata": {
    "scrolled": false
   },
   "outputs": [],
   "source": [
    "#computation and plot \n",
    "stabilityplot(dt = np.array([1, 2,3,4]),scheme = verlet,m=m, p0 = p0, q0 = q0)"
   ]
  },
  {
   "cell_type": "markdown",
   "id": "877e5c28",
   "metadata": {},
   "source": [
    "The Verlet scheme seems to be working even better than Euler Symplectic, as the trajectories are properly approximated even with timesteps bigger than 1 day. As such, it is **stable for our system**."
   ]
  },
  {
   "cell_type": "code",
   "execution_count": null,
   "id": "620c991a",
   "metadata": {},
   "outputs": [],
   "source": [
    "#3D\n",
    "\n",
    "dt = 1 \n",
    "scheme = verlet.__name__\n",
    "t_max = 365*10\n",
    "t_vrlt,p_vrlt,q_vrlt,samp_q, samp_p,samp_t  = verlet(t_max, dt, p0, q0,m,dd=3)\n",
    "q_vrlt = focus_sun(q_vrlt)\n",
    "samp_q = focus_sun(samp_q)"
   ]
  },
  {
   "cell_type": "code",
   "execution_count": null,
   "id": "392aa778",
   "metadata": {},
   "outputs": [],
   "source": [
    "q_VRLT = cat(samp_q,samp_t)\n",
    "%matplotlib notebook\n",
    "fig0 = plt.figure()\n",
    "ax = plt.axes(projection='3d')\n",
    "line_ani = animation.FuncAnimation(fig0, q_VRLT.animate_func, interval=.0001,frames=len(q_VRLT))\n",
    "plt.show()"
   ]
  },
  {
   "cell_type": "markdown",
   "id": "f1236925",
   "metadata": {},
   "source": [
    "## <font color='2c388e'>II. 5-bodys System: Jupiter, Saturn, Uranus, Neptune, Pluton</font> "
   ]
  },
  {
   "cell_type": "markdown",
   "id": "fcc253d0",
   "metadata": {},
   "source": [
    "We now take a similar system, but with two more bodies : we'll try to plot the trajectories of Jupiter, Saturn, Uranus, Neptune and Pluton around the Sun. The initial data is from September 5th 1994 at midnight. \n",
    "\n",
    "The equations used are the same, only adapted to two more bodies. We apply our three numerical schemes to it."
   ]
  },
  {
   "cell_type": "code",
   "execution_count": null,
   "id": "b8d1a607",
   "metadata": {},
   "outputs": [],
   "source": [
    "m_0 = 1.0\n",
    "m_1 = 9.54786104043E-4 #jupiter mass\n",
    "m_2 = 2.85583733151E-4 #saturn mass\n",
    "m_3 = 4.37273164546E-5 #uranus mass\n",
    "m_4 = 5.17759138449E-5 #neptune mass\n",
    "m_5 = 1/(1.3*10**8) #pluto mass\n",
    "m = np.array([m_0,m_1,m_2,m_3,m_4,m_5])\n",
    "G = 2.95912208286e-4\n",
    "q0=np.array([0,0,0,-3.5023653,-3.8169847,-1.5507963,9.0755314,-3.0458353,-1.6483708,8.3101420,-16.2901086,-7.2521278,11.4707666,-25.7294829,-10.8169456,-15.5387357,-25.2225594,-3.1902382])\n",
    "v0=np.array([0,0,0,0.00565429,-0.00412490,-0.00190589,0.00168318,0.00483525,0.00192462,0.00354178,0.00137102,0.00055029,0.00288930,0.00114527,0.00039677,0.00276725,-0.00170702,-0.00136504])\n",
    "p0 = np.zeros(18)\n",
    "p0[0:3]= v0[0:3]*m_0\n",
    "p0[3:6]= v0[3:6]*m_1\n",
    "p0[6:9]= v0[6:9]*m_2\n",
    "p0[9:12]= v0[9:12]*m_3\n",
    "p0[12:15]= v0[12:15]*m_4\n",
    "p0[15:18]= v0[15:18]*m_5"
   ]
  },
  {
   "cell_type": "markdown",
   "id": "40751b74",
   "metadata": {},
   "source": [
    "The simulations will be run over $t_{max} = 1000 \\, \\text{years}$, using  $dt = 25\\, \\text{days}$."
   ]
  },
  {
   "cell_type": "markdown",
   "id": "97b8c650",
   "metadata": {},
   "source": [
    "#### <font color=' #37a7d8'>II. A. Symplectic Euler </font> "
   ]
  },
  {
   "cell_type": "code",
   "execution_count": null,
   "id": "7908afb9",
   "metadata": {},
   "outputs": [],
   "source": [
    "dt = 25\n",
    "scheme = euler_sympletic.__name__\n",
    "t_max = 365*1000"
   ]
  },
  {
   "cell_type": "code",
   "execution_count": null,
   "id": "c316ee8a",
   "metadata": {},
   "outputs": [],
   "source": [
    "t,p,q,samp_q, samp_p,samp_t = euler_sympletic(t_max, dt, p0, q0,m,dd=15)"
   ]
  },
  {
   "cell_type": "code",
   "execution_count": null,
   "id": "af7cbdda",
   "metadata": {},
   "outputs": [],
   "source": [
    "plt.figure()\n",
    "plt.plot(q[3,:],q[4,:], label = 'Jupyter')\n",
    "plt.plot(q[6,:],q[7,:], label = 'Saturn')\n",
    "plt.plot(q[9,:],q[10,:], label = 'Uranus')\n",
    "plt.plot(q[12,:],q[13,:], label = 'Neptune')\n",
    "plt.plot(q[15,:],q[16,:], label = 'Pluton')\n",
    "plt.xlabel(r'$q_x$ (ua)')\n",
    "plt.ylabel(r'$q_y$ (ua)')\n",
    "plt.legend()\n",
    "plt.title(f'5 body system using Symplectic Euler for n = {int(t_max/dt)} iterations with dt ={dt}')\n",
    "plt.show()"
   ]
  },
  {
   "cell_type": "code",
   "execution_count": null,
   "id": "6720f443",
   "metadata": {},
   "outputs": [],
   "source": [
    "class cat5():\n",
    "    def __init__(self, q,t):\n",
    "        super().__init__()\n",
    "        self.dataSet = q\n",
    "        self.t = t\n",
    "    def dataSet(self):\n",
    "        return self.dataSet\n",
    "    def __len__(self):\n",
    "        return len(self.dataSet[0])\n",
    "    def __getitem__(self,index):\n",
    "        return self.dataSet[index]\n",
    "    def animate_func(self, num):\n",
    "        ax.clear()  # Clears the figure to update the line, point,   \n",
    "        # Updating Trajectory Line (num+1 due to Python indexing)\n",
    "        ax.plot3D(self.dataSet[3,np.max([0,num-400]):num+1], self.dataSet[4,np.max([0,num-400]):num+1],self.dataSet[5,np.max([0,num-400]):num+1], c='blue',label = 'Jupyter')\n",
    "        ax.plot3D(self.dataSet[6,np.max([0,num-400]):num+1], self.dataSet[7,np.max([0,num-400]):num+1],self.dataSet[8,np.max([0,num-400]):num+1], c='purple',label = 'Saturn')\n",
    "        ax.plot3D(self.dataSet[9,np.max([0,num-400]):num+1], self.dataSet[10,np.max([0,num-400]):num+1],self.dataSet[11,np.max([0,num-400]):num+1], c='green',label = 'Uranus')\n",
    "        ax.plot3D(self.dataSet[12,np.max([0,num-400]):num+1], self.dataSet[13,np.max([0,num-400]):num+1],self.dataSet[14,np.max([0,num-400]):num+1], c='black',label = 'Neptune')\n",
    "        ax.plot3D(self.dataSet[15,np.max([0,num-400]):num+1], self.dataSet[16,np.max([0,num-400]):num+1],self.dataSet[17,np.max([0,num-400]):num+1], c='red',label = 'Pluton')\n",
    "        # Updating Point Location \n",
    "        ax.scatter(self.dataSet[3,num], self.dataSet[4,num], self.dataSet[5,num],c='black', marker='o')\n",
    "        ax.scatter(self.dataSet[6,num], self.dataSet[7,num], self.dataSet[8,num],c='black', marker='o')\n",
    "        ax.scatter(self.dataSet[9,num], self.dataSet[10,num], self.dataSet[11,num],c='black', marker='o')\n",
    "        ax.scatter(self.dataSet[12,num], self.dataSet[13,num], self.dataSet[14,num],c='black', marker='o')\n",
    "        ax.scatter(self.dataSet[15,num], self.dataSet[16,num], self.dataSet[17,num],c='black', marker='o')\n",
    "        #ax.scatter(self.dataSet[num,2,0], self.dataSet[num,2,1], self.dataSet[num,2,2],c='orange', marker='o')\n",
    "        # Adding Constant Origin\n",
    "        ax.plot3D(self.dataSet[0, 0], self.dataSet[1, 0], self.dataSet[2, 0],c='orange', marker='o', label='Sun')\n",
    "        # Setting Axes Limits\n",
    "        ax.set_xlim3d([-40, 40])\n",
    "        ax.set_ylim3d([-40, 40])\n",
    "        ax.set_zlim3d([-10, 10])\n",
    "        # Adding Figure Labels\n",
    "        months = int(np.round(self.t[num],decimals=2))//30\n",
    "        y = months//12\n",
    "        if months >=  12:\n",
    "            months = months%12\n",
    "        months = str(months)\n",
    "        y = str(y)\n",
    "        ax.legend()\n",
    "        ax.set_title(f'Trajectory five bodies for dt = {dt} \\nTime = {y} years {months} months \\n{scheme} scheme')\n",
    "        ax.set_xlabel('x')\n",
    "        ax.set_ylabel('y')\n",
    "        ax.set_zlabel('z')\n",
    "\n",
    "    "
   ]
  },
  {
   "cell_type": "code",
   "execution_count": null,
   "id": "b05ebe70",
   "metadata": {},
   "outputs": [],
   "source": [
    "q5_SE = cat5(samp_q,samp_t)"
   ]
  },
  {
   "cell_type": "code",
   "execution_count": null,
   "id": "73ca16b3",
   "metadata": {},
   "outputs": [],
   "source": [
    "%matplotlib notebook\n",
    "fig0 = plt.figure()\n",
    "ax = plt.axes(projection='3d')\n",
    "line_ani = animation.FuncAnimation(fig0, q5_SE.animate_func, interval=.0001,frames=len(q5_SE))\n",
    "#plt.legend()\n",
    "plt.show()"
   ]
  },
  {
   "cell_type": "markdown",
   "id": "dd69de50",
   "metadata": {},
   "source": [
    "The symplectic integrator seems to be working yet again, as the trajectories are what we expected. For exemple, Pluton orbits entirely around the Sun in 248 years, which is what is observed here. Once again, **the system is stable in the long term**."
   ]
  },
  {
   "cell_type": "markdown",
   "id": "ae6c4836",
   "metadata": {},
   "source": [
    "#### <font color=' #37a7d8'>II. B. Explicit Euler </font> "
   ]
  },
  {
   "cell_type": "code",
   "execution_count": null,
   "id": "33fb4e5d",
   "metadata": {},
   "outputs": [],
   "source": [
    "dt = 25\n",
    "scheme = euler_explicit.__name__\n",
    "t_max = 365*1000\n",
    "t,p,q,samp_q_ee, samp_p_ee,samp_t_ee  = euler_explicit(t_max, dt, p0, q0,dd=15,m=m)"
   ]
  },
  {
   "cell_type": "code",
   "execution_count": null,
   "id": "9e6f43bf",
   "metadata": {},
   "outputs": [],
   "source": [
    "plt.figure()\n",
    "plt.plot(q[3,:],q[4,:], label = 'Jupyter')\n",
    "plt.plot(q[6,:],q[7,:], label = 'Saturn')\n",
    "plt.plot(q[9,:],q[10,:], label = 'Uranus')\n",
    "plt.plot(q[12,:],q[13,:], label = 'Neptune')\n",
    "plt.plot(q[15,:],q[16,:], label = 'Pluton')\n",
    "plt.xlabel(r'$q_x$ (ua)')\n",
    "plt.ylabel(r'$q_y$ (ua)')\n",
    "plt.legend()\n",
    "plt.title(f'5 body system using Explicit Euler for n = {int(t_max/dt)} iterations with dt ={dt} days')\n",
    "plt.show()"
   ]
  },
  {
   "cell_type": "code",
   "execution_count": null,
   "id": "ee86d02f",
   "metadata": {},
   "outputs": [],
   "source": [
    "q5_EE = cat5(samp_q_ee,samp_t_ee)"
   ]
  },
  {
   "cell_type": "code",
   "execution_count": null,
   "id": "c1ed2dcf",
   "metadata": {},
   "outputs": [],
   "source": [
    "%matplotlib notebook\n",
    "fig0 = plt.figure()\n",
    "ax = plt.axes(projection='3d')\n",
    "line_ani = animation.FuncAnimation(fig0, q5_EE.animate_func, interval=.0001,frames=len(q5_EE))\n",
    "plt.show()"
   ]
  },
  {
   "cell_type": "markdown",
   "id": "eb7c6d1f",
   "metadata": {},
   "source": [
    "**The explicit euler scheme isn't stable for this system**, as the bodies don't follow the same trajectories every time they make a full orbit around the Sun."
   ]
  },
  {
   "cell_type": "markdown",
   "id": "5948f0ab",
   "metadata": {},
   "source": [
    "#### <font color=' #37a7d8'>II. C. Verlet </font> "
   ]
  },
  {
   "cell_type": "code",
   "execution_count": null,
   "id": "18992f2b",
   "metadata": {},
   "outputs": [],
   "source": [
    "dt = 25\n",
    "scheme = verlet.__name__\n",
    "t_max = 365*1000\n",
    "t_v,p_v,q_v,samp_q_v, samp_p_v,samp_t_v = verlet(t_max, dt, p0, q0,m,dd=15)"
   ]
  },
  {
   "cell_type": "code",
   "execution_count": null,
   "id": "46c585f9",
   "metadata": {},
   "outputs": [],
   "source": [
    "plt.figure()\n",
    "plt.plot(q_v[3,:],q_v[4,:], label = 'Jupyter')\n",
    "plt.plot(q_v[6,:],q_v[7,:], label = 'Saturn')\n",
    "plt.plot(q_v[9,:],q_v[10,:], label = 'Uranus')\n",
    "plt.plot(q_v[12,:],q_v[13,:], label = 'Neptune')\n",
    "plt.plot(q_v[15,:],q_v[16,:], label = 'Pluton')\n",
    "plt.xlabel(r'$q_x$ (ua)')\n",
    "plt.ylabel(r'$q_y$ (ua)')\n",
    "plt.legend()\n",
    "plt.title(f'5 body system using Verlet for n = {int(t_max/dt)} iterations with dt ={dt}')\n",
    "plt.show()"
   ]
  },
  {
   "cell_type": "code",
   "execution_count": null,
   "id": "8f636e78",
   "metadata": {},
   "outputs": [],
   "source": [
    "q5_VRLT = cat5(samp_q_v,samp_t_v)\n",
    "%matplotlib notebook\n",
    "fig0 = plt.figure()\n",
    "ax = plt.axes(projection='3d')\n",
    "line_ani = animation.FuncAnimation(fig0, q5_VRLT.animate_func, interval=.0001,frames=len(q5_VRLT))\n",
    "plt.show()"
   ]
  },
  {
   "cell_type": "markdown",
   "id": "76b19507",
   "metadata": {},
   "source": [
    "The Verlet scheme is also **stable for the system**."
   ]
  },
  {
   "cell_type": "markdown",
   "id": "69744c9b",
   "metadata": {},
   "source": [
    "## <font color='2c388e'>III. Conclusion</font> "
   ]
  },
  {
   "cell_type": "markdown",
   "id": "6018a6eb",
   "metadata": {},
   "source": [
    "During this project, we've managed to write and compute the equations for 3-body and 5-body problems using several numerical schemes. We've managed to identify schemes that are stable for those systems, such as the **Symplectic Euler** and **Verlet** schemes. Using those, we have simulated the bodies' trajectories over long period of times and concurred that the systems were **stable in the long term**. "
   ]
  },
  {
   "cell_type": "markdown",
   "id": "c44f1463",
   "metadata": {},
   "source": [
    "However, it is stated in one of the papers that chaotic behavior of the solar system was already proved. Indeed, a small error of a few meters in the initial position of one of the body should be amplified by a factor 10 every 10 million years,\n",
    "leading to a huge error of dozens of millions of kilometers after 100 million years. This is why the stability of the systems we've concurred over a period of 10 or 1000 years if fairly relative, and precise numerical predictions become infeasible beyond a time horizon of 100 million years."
   ]
  },
  {
   "cell_type": "markdown",
   "id": "c225feab",
   "metadata": {},
   "source": [
    "## <font color='2c388e'>IV. References</font> "
   ]
  },
  {
   "cell_type": "markdown",
   "id": "70c80bf1",
   "metadata": {},
   "source": [
    "- Theory and data for the 3-bodies and 5-bodies problem\n",
    "  - Computing the long term evolution of the solar system with geometric numerical integrators\n",
    "    Shaula Fiorelli Vilmart/Gilles Vilmart - https://hal.archives-ouvertes.fr/hal-01560573v2\n",
    "  - Geometric Numerical Integration - Ernst Hairer, Christian Lubich, Gerhard Wanner - Chapter 1"
   ]
  }
 ],
 "metadata": {
  "kernelspec": {
   "display_name": "Python 3 (ipykernel)",
   "language": "python",
   "name": "python3"
  },
  "language_info": {
   "codemirror_mode": {
    "name": "ipython",
    "version": 3
   },
   "file_extension": ".py",
   "mimetype": "text/x-python",
   "name": "python",
   "nbconvert_exporter": "python",
   "pygments_lexer": "ipython3",
   "version": "3.9.7"
  }
 },
 "nbformat": 4,
 "nbformat_minor": 5
}
